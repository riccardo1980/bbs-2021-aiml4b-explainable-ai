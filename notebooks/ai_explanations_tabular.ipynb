{
  "cells": [
    {
      "cell_type": "code",
      "execution_count": 1,
      "metadata": {
        "deletable": true,
        "editable": true,
        "id": "4qxwBA4RM9Lu"
      },
      "outputs": [],
      "source": [
        "PROJECT_ID = \"formazione-riccardo-zanella\" #@param {type: \"string\"}\n",
        "REGION = 'us-central1' #@param {type: \"string\"}\n",
        "BUCKET_NAME = \"bbs-2021-opml4b-explainability\" #@param {type:\"string\"}"
      ]
    },
    {
      "cell_type": "markdown",
      "metadata": {
        "id": "kV_NEAQwwH0e"
      },
      "source": [
        "## Build, train, and evaluate your model with Keras\n",
        "\n",
        "This section shows how to build, train, evaluate, and get local predictions from a model by using the Keras [Sequential API](https://www.tensorflow.org/guide/keras/sequential_model). The model will takes your 10 features as input and predict the trip duration in minutes."
      ]
    },
    {
      "cell_type": "code",
      "execution_count": 2,
      "metadata": {},
      "outputs": [
        {
          "name": "stderr",
          "output_type": "stream",
          "text": [
            "2021-10-22 14:33:49.308334: W tensorflow/stream_executor/platform/default/dso_loader.cc:64] Could not load dynamic library 'libcudart.so.11.0'; dlerror: libcudart.so.11.0: cannot open shared object file: No such file or directory\n",
            "2021-10-22 14:33:49.308374: I tensorflow/stream_executor/cuda/cudart_stub.cc:29] Ignore above cudart dlerror if you do not have a GPU set up on your machine.\n"
          ]
        }
      ],
      "source": [
        "import tensorflow as tf\n",
        "import pandas as pd"
      ]
    },
    {
      "cell_type": "code",
      "execution_count": 17,
      "metadata": {},
      "outputs": [],
      "source": [
        "TRAIN_FILE = 'gs://'+BUCKET_NAME+'/data/train.csv'\n",
        "TEST_FILE = 'gs://'+BUCKET_NAME+'/data/test.csv'\n",
        "EXPORT_PATH = 'gs://' + BUCKET_NAME + '/explanations/mymodel'"
      ]
    },
    {
      "cell_type": "code",
      "execution_count": 6,
      "metadata": {},
      "outputs": [],
      "source": [
        "with tf.io.gfile.GFile(TRAIN_FILE) as f:\n",
        "    train_data = pd.read_csv(f)\n",
        "\n",
        "with tf.io.gfile.GFile(TEST_FILE) as f:\n",
        "    test_data = pd.read_csv(f)"
      ]
    },
    {
      "cell_type": "code",
      "execution_count": 8,
      "metadata": {},
      "outputs": [],
      "source": [
        "from typing import Tuple\n",
        "\n",
        "def split_features_labels(dframe: pd.DataFrame, label_col: str = 'duration') -> Tuple[pd.DataFrame]:\n",
        "    labels = dframe[label_col]\n",
        "    features = dframe.drop(columns=[label_col])\n",
        "    return features, labels\n"
      ]
    },
    {
      "cell_type": "code",
      "execution_count": 9,
      "metadata": {},
      "outputs": [],
      "source": [
        "train_data, train_labels = split_features_labels(train_data)\n",
        "\n",
        "test_data, test_labels = split_features_labels(test_data)"
      ]
    },
    {
      "cell_type": "code",
      "execution_count": 10,
      "metadata": {
        "id": "3kQz8Q0DsBM7"
      },
      "outputs": [
        {
          "name": "stderr",
          "output_type": "stream",
          "text": [
            "2021-10-22 14:38:56.351778: W tensorflow/stream_executor/platform/default/dso_loader.cc:64] Could not load dynamic library 'libcuda.so.1'; dlerror: libcuda.so.1: cannot open shared object file: No such file or directory\n",
            "2021-10-22 14:38:56.351815: W tensorflow/stream_executor/cuda/cuda_driver.cc:269] failed call to cuInit: UNKNOWN ERROR (303)\n",
            "2021-10-22 14:38:56.351831: I tensorflow/stream_executor/cuda/cuda_diagnostics.cc:156] kernel driver does not appear to be running on this host (INJ-NB-126): /proc/driver/nvidia/version does not exist\n",
            "2021-10-22 14:38:56.351988: I tensorflow/core/platform/cpu_feature_guard.cc:142] This TensorFlow binary is optimized with oneAPI Deep Neural Network Library (oneDNN) to use the following CPU instructions in performance-critical operations:  AVX2 FMA\n",
            "To enable them in other operations, rebuild TensorFlow with the appropriate compiler flags.\n"
          ]
        }
      ],
      "source": [
        "# Build your model\n",
        "model = tf.keras.Sequential(name=\"bike_predict\")\n",
        "model.add(tf.keras.layers.Dense(64, input_dim=len(train_data.iloc[0]), activation='relu'))\n",
        "model.add(tf.keras.layers.Dense(32, activation='relu'))\n",
        "model.add(tf.keras.layers.Dense(1))"
      ]
    },
    {
      "cell_type": "code",
      "execution_count": 11,
      "metadata": {
        "id": "UvAcjSUcs_l7"
      },
      "outputs": [
        {
          "name": "stdout",
          "output_type": "stream",
          "text": [
            "Model: \"bike_predict\"\n",
            "_________________________________________________________________\n",
            "Layer (type)                 Output Shape              Param #   \n",
            "=================================================================\n",
            "dense (Dense)                (None, 64)                704       \n",
            "_________________________________________________________________\n",
            "dense_1 (Dense)              (None, 32)                2080      \n",
            "_________________________________________________________________\n",
            "dense_2 (Dense)              (None, 1)                 33        \n",
            "=================================================================\n",
            "Total params: 2,817\n",
            "Trainable params: 2,817\n",
            "Non-trainable params: 0\n",
            "_________________________________________________________________\n"
          ]
        }
      ],
      "source": [
        "# Compile the model and see a summary\n",
        "optimizer = tf.keras.optimizers.Adam(0.001)\n",
        "model.compile(loss='mean_squared_logarithmic_error', optimizer=optimizer)\n",
        "model.summary()"
      ]
    },
    {
      "cell_type": "markdown",
      "metadata": {
        "id": "GcOkuHPVwjiM"
      },
      "source": [
        "### Create an input data pipeline with tf.data"
      ]
    },
    {
      "cell_type": "code",
      "execution_count": 12,
      "metadata": {
        "id": "ZUu9wFklwmm6"
      },
      "outputs": [],
      "source": [
        "batch_size = 256\n",
        "epochs = 3\n",
        "\n",
        "input_train = tf.data.Dataset.from_tensor_slices(train_data)\n",
        "output_train = tf.data.Dataset.from_tensor_slices(train_labels)\n",
        "input_train = input_train.batch(batch_size).repeat()\n",
        "output_train = output_train.batch(batch_size).repeat()\n",
        "train_dataset = tf.data.Dataset.zip((input_train, output_train))"
      ]
    },
    {
      "cell_type": "markdown",
      "metadata": {
        "id": "l98aRzfPwo5e"
      },
      "source": [
        "### Train the model"
      ]
    },
    {
      "cell_type": "code",
      "execution_count": 13,
      "metadata": {
        "id": "h1x_8CR0wtRs"
      },
      "outputs": [
        {
          "name": "stdout",
          "output_type": "stream",
          "text": [
            "Epoch 1/3\n",
            "  69/2958 [..............................] - ETA: 4s - loss: 2.0662"
          ]
        },
        {
          "name": "stderr",
          "output_type": "stream",
          "text": [
            "2021-10-22 14:39:58.528991: I tensorflow/compiler/mlir/mlir_graph_optimization_pass.cc:185] None of the MLIR Optimization Passes are enabled (registered 2)\n"
          ]
        },
        {
          "name": "stdout",
          "output_type": "stream",
          "text": [
            "2958/2958 [==============================] - 5s 1ms/step - loss: 0.7057\n",
            "Epoch 2/3\n",
            "2958/2958 [==============================] - 4s 1ms/step - loss: 0.3599\n",
            "Epoch 3/3\n",
            "2958/2958 [==============================] - 4s 1ms/step - loss: 0.3608\n"
          ]
        },
        {
          "data": {
            "text/plain": [
              "<keras.callbacks.History at 0x7faef1011e48>"
            ]
          },
          "execution_count": 13,
          "metadata": {},
          "output_type": "execute_result"
        }
      ],
      "source": [
        "# This will take about a minute to run\n",
        "# To keep training time short, you're not using the full dataset\n",
        "train_size = len(train_data)\n",
        "model.fit(train_dataset, steps_per_epoch=train_size // batch_size, epochs=epochs)"
      ]
    },
    {
      "cell_type": "markdown",
      "metadata": {
        "id": "QPr0A8bjw0wm"
      },
      "source": [
        "### Evaluate the trained model locally"
      ]
    },
    {
      "cell_type": "code",
      "execution_count": 14,
      "metadata": {
        "id": "3Elbvna4vU30"
      },
      "outputs": [
        {
          "name": "stdout",
          "output_type": "stream",
          "text": [
            "5917/5917 [==============================] - 4s 625us/step - loss: 0.3549\n",
            "0.3549324870109558\n"
          ]
        }
      ],
      "source": [
        "# Run evaluation\n",
        "results = model.evaluate(test_data, test_labels)\n",
        "print(results)"
      ]
    },
    {
      "cell_type": "code",
      "execution_count": 15,
      "metadata": {
        "id": "bIh6uds2x2tr"
      },
      "outputs": [],
      "source": [
        "# Send test instances to model for prediction\n",
        "predict = model.predict(test_data[:5])"
      ]
    },
    {
      "cell_type": "code",
      "execution_count": 16,
      "metadata": {
        "id": "aFjBh4DVx7QL"
      },
      "outputs": [
        {
          "name": "stdout",
          "output_type": "stream",
          "text": [
            "Predicted duration: 18\n",
            "Actual duration: 22.0 \n",
            "\n",
            "Predicted duration: 27\n",
            "Actual duration: 31.0 \n",
            "\n",
            "Predicted duration: 27\n",
            "Actual duration: 23.0 \n",
            "\n",
            "Predicted duration: 17\n",
            "Actual duration: 14.0 \n",
            "\n",
            "Predicted duration: 12\n",
            "Actual duration: 9.0 \n",
            "\n"
          ]
        }
      ],
      "source": [
        "# Preview predictions on the first 5 examples from your test dataset\n",
        "for i, val in enumerate(predict):\n",
        "    print('Predicted duration: {}'.format(round(val[0])))\n",
        "    print('Actual duration: {} \\n'.format(test_labels.iloc[i]))"
      ]
    },
    {
      "cell_type": "markdown",
      "metadata": {
        "deletable": true,
        "editable": true,
        "id": "gAO6-zv6osJ8"
      },
      "source": [
        "## Export the model as a TF 2.x SavedModel\n",
        "\n",
        "When using TensorFlow 2.x, you export the model as a `SavedModel` and load it into Cloud Storage. "
      ]
    },
    {
      "cell_type": "code",
      "execution_count": 19,
      "metadata": {
        "id": "uV6l3_qF9iW7"
      },
      "outputs": [
        {
          "name": "stderr",
          "output_type": "stream",
          "text": [
            "2021-10-22 14:41:16.906603: W tensorflow/python/util/util.cc:348] Sets are not currently considered sequences, but this may change in the future, so consider avoiding using them.\n"
          ]
        },
        {
          "name": "stdout",
          "output_type": "stream",
          "text": [
            "INFO:tensorflow:Assets written to: gs://bbs-2021-opml4b-explainability/explanations/mymodel/assets\n",
            "gs://bbs-2021-opml4b-explainability/explanations/mymodel\n"
          ]
        }
      ],
      "source": [
        "model.save(EXPORT_PATH)\n",
        "print(EXPORT_PATH)"
      ]
    },
    {
      "cell_type": "markdown",
      "metadata": {
        "id": "-f8elyM8KMNX"
      },
      "source": [
        "Use TensorFlow's `saved_model_cli` to inspect the model's SignatureDef. You'll use this information when you deploy your model to AI Explanations in the next section."
      ]
    },
    {
      "cell_type": "code",
      "execution_count": 22,
      "metadata": {
        "id": "yFg5r-7s1BKr"
      },
      "outputs": [
        {
          "name": "stdout",
          "output_type": "stream",
          "text": [
            "2021-10-22 14:41:59.205271: W tensorflow/stream_executor/platform/default/dso_loader.cc:64] Could not load dynamic library 'libcudart.so.11.0'; dlerror: libcudart.so.11.0: cannot open shared object file: No such file or directory\n",
            "2021-10-22 14:41:59.205311: I tensorflow/stream_executor/cuda/cudart_stub.cc:29] Ignore above cudart dlerror if you do not have a GPU set up on your machine.\n",
            "\n",
            "MetaGraphDef with tag-set: 'serve' contains the following SignatureDefs:\n",
            "\n",
            "signature_def['__saved_model_init_op']:\n",
            "  The given SavedModel SignatureDef contains the following input(s):\n",
            "  The given SavedModel SignatureDef contains the following output(s):\n",
            "    outputs['__saved_model_init_op'] tensor_info:\n",
            "        dtype: DT_INVALID\n",
            "        shape: unknown_rank\n",
            "        name: NoOp\n",
            "  Method name is: \n",
            "\n",
            "signature_def['serving_default']:\n",
            "  The given SavedModel SignatureDef contains the following input(s):\n",
            "    inputs['dense_input'] tensor_info:\n",
            "        dtype: DT_FLOAT\n",
            "        shape: (-1, 10)\n",
            "        name: serving_default_dense_input:0\n",
            "  The given SavedModel SignatureDef contains the following output(s):\n",
            "    outputs['dense_2'] tensor_info:\n",
            "        dtype: DT_FLOAT\n",
            "        shape: (-1, 1)\n",
            "        name: StatefulPartitionedCall:0\n",
            "  Method name is: tensorflow/serving/predict\n",
            "Traceback (most recent call last):\n",
            "  File \"/home/ricky/VSCODE/BBS/gcp_explainable_ai/.venv/bin/saved_model_cli\", line 8, in <module>\n",
            "    sys.exit(main())\n",
            "  File \"/home/ricky/VSCODE/BBS/gcp_explainable_ai/.venv/lib/python3.7/site-packages/tensorflow/python/tools/saved_model_cli.py\", line 1192, in main\n",
            "    args.func(args)\n",
            "  File \"/home/ricky/VSCODE/BBS/gcp_explainable_ai/.venv/lib/python3.7/site-packages/tensorflow/python/tools/saved_model_cli.py\", line 719, in show\n",
            "    _show_all(args.dir)\n",
            "  File \"/home/ricky/VSCODE/BBS/gcp_explainable_ai/.venv/lib/python3.7/site-packages/tensorflow/python/tools/saved_model_cli.py\", line 307, in _show_all\n",
            "    _show_defined_functions(saved_model_dir)\n",
            "  File \"/home/ricky/VSCODE/BBS/gcp_explainable_ai/.venv/lib/python3.7/site-packages/tensorflow/python/tools/saved_model_cli.py\", line 187, in _show_defined_functions\n",
            "    trackable_object = load.load(saved_model_dir)\n",
            "  File \"/home/ricky/VSCODE/BBS/gcp_explainable_ai/.venv/lib/python3.7/site-packages/tensorflow/python/saved_model/load.py\", line 864, in load\n",
            "    result = load_internal(export_dir, tags, options)[\"root\"]\n",
            "  File \"/home/ricky/VSCODE/BBS/gcp_explainable_ai/.venv/lib/python3.7/site-packages/tensorflow/python/saved_model/load.py\", line 903, in load_internal\n",
            "    ckpt_options, options, filters)\n",
            "  File \"/home/ricky/VSCODE/BBS/gcp_explainable_ai/.venv/lib/python3.7/site-packages/tensorflow/python/saved_model/load.py\", line 162, in __init__\n",
            "    self._load_all()\n",
            "  File \"/home/ricky/VSCODE/BBS/gcp_explainable_ai/.venv/lib/python3.7/site-packages/tensorflow/python/saved_model/load.py\", line 259, in _load_all\n",
            "    self._load_nodes()\n",
            "  File \"/home/ricky/VSCODE/BBS/gcp_explainable_ai/.venv/lib/python3.7/site-packages/tensorflow/python/saved_model/load.py\", line 448, in _load_nodes\n",
            "    slot_variable = optimizer_object.add_slot(\n",
            "AttributeError: '_UserObject' object has no attribute 'add_slot'\n"
          ]
        }
      ],
      "source": [
        "! saved_model_cli show --dir $EXPORT_PATH --all"
      ]
    },
    {
      "cell_type": "markdown",
      "metadata": {
        "id": "y270ZNinycoy"
      },
      "source": [
        "## Deploy the model to AI Explanations\n",
        "\n",
        "In order to deploy the model to Explanations, you need to generate an `explanations_metadata.json` file and upload this to the Cloud Storage bucket with your SavedModel. Then you'll deploy the model using `gcloud`."
      ]
    },
    {
      "cell_type": "markdown",
      "metadata": {
        "id": "cUdUVjjGbvQy"
      },
      "source": [
        "### Prepare explanation metadata\n",
        "\n",
        "In order to deploy this model to AI Explanations, you need to create an explanation_metadata.json file with information about your model inputs, outputs, and baseline. You can use the [Explainable AI SDK](https://pypi.org/project/explainable-ai-sdk/) to generate most of the fields. \n",
        "\n",
        "The value for `input_baselines` tells the explanations service what the baseline input should be for your model. Here you're using the median for all of your input features. That means the baseline prediction for this model will be the trip duration your model predicts for the median of each feature in your dataset. \n",
        "\n",
        "Since this model accepts a single numpy array with all numerical feature, you can optionally pass an `index_feature_mapping` list to AI Explanations to make the API response easier to parse. When you provide a list of feature names via this parameter, the service will return a key / value mapping of each feature with its corresponding attribution value."
      ]
    },
    {
      "cell_type": "code",
      "execution_count": 21,
      "metadata": {
        "id": "UolAW3lcVTGl"
      },
      "outputs": [
        {
          "name": "stdout",
          "output_type": "stream",
          "text": [
            "Model input tensor:  dense_input\n",
            "Model output tensor:  dense_2/BiasAdd:0\n"
          ]
        }
      ],
      "source": [
        "# Print the names of your tensors\n",
        "print('Model input tensor: ', model.input.name)\n",
        "print('Model output tensor: ', model.output.name)"
      ]
    },
    {
      "cell_type": "code",
      "execution_count": 19,
      "metadata": {
        "id": "qpZiW9Cq6IY4"
      },
      "outputs": [],
      "source": [
        "from explainable_ai_sdk.metadata.tf.v2 import SavedModelMetadataBuilder\n",
        "builder = SavedModelMetadataBuilder(export_path)\n",
        "builder.set_numeric_metadata(\n",
        "    model.input.name.split(':')[0],\n",
        "    input_baselines=[train_data.median().values.tolist()],\n",
        "    index_feature_mapping=train_data.columns.tolist()\n",
        ")\n",
        "builder.save_metadata(export_path)"
      ]
    },
    {
      "cell_type": "markdown",
      "metadata": {
        "id": "rT3iG5pDdrHi"
      },
      "source": [
        "Since this is a regression model (predicting a numerical value), the baseline prediction will be the same for every example you send to the model. If this were instead a classification model, each class would have a different baseline prediction."
      ]
    },
    {
      "cell_type": "markdown",
      "metadata": {
        "id": "J6MKKy6Xb2MT"
      },
      "source": [
        "### Create the model"
      ]
    },
    {
      "cell_type": "code",
      "execution_count": 20,
      "metadata": {
        "id": "S2OaOycmb4o0"
      },
      "outputs": [],
      "source": [
        "MODEL = 'bike'"
      ]
    },
    {
      "cell_type": "code",
      "execution_count": null,
      "metadata": {
        "id": "0bwCxEr5b8BP"
      },
      "outputs": [],
      "source": [
        "# Create the model if it doesn't exist yet (you only need to run this once)\n",
        "! gcloud ai-platform models create $MODEL --enable-logging --region=$REGION"
      ]
    },
    {
      "cell_type": "markdown",
      "metadata": {
        "id": "qp4qfnZib-zQ"
      },
      "source": [
        "### Create the model version \n",
        "\n",
        "Creating the version will take ~5-10 minutes. Note that your first deploy could take longer."
      ]
    },
    {
      "cell_type": "code",
      "execution_count": 23,
      "metadata": {
        "id": "LQlcQFG_AB4o"
      },
      "outputs": [],
      "source": [
        "# Each time you create a version the name should be unique\n",
        "VERSION = 'v1'"
      ]
    },
    {
      "cell_type": "code",
      "execution_count": 21,
      "metadata": {
        "id": "3l5t2o1t7dal"
      },
      "outputs": [
        {
          "name": "stdout",
          "output_type": "stream",
          "text": [
            "\u001b[1;31mERROR:\u001b[0m (gcloud.beta.ai-platform.versions.create) Invalid choice: ''.\n",
            "This command is available in one or more alternate release tracks.  Try:\n",
            "  gcloud ai-platform versions create\n",
            "  gcloud alpha ai-platform versions create\n"
          ]
        }
      ],
      "source": [
        "# Create the version with gcloud\n",
        "explain_method = 'integrated-gradients'\n",
        "! gcloud beta ai-platform versions create $VERSION --region=$REGION \\\n",
        "--model $MODEL \\\n",
        "--origin $export_path \\\n",
        "--runtime-version 2.1 \\\n",
        "--framework TENSORFLOW \\\n",
        "--python-version 3.7 \\\n",
        "--machine-type n1-standard-4 \\\n",
        "--explanation-method $explain_method \\\n",
        "--num-integral-steps 25"
      ]
    },
    {
      "cell_type": "code",
      "execution_count": 24,
      "metadata": {
        "id": "eWkkRFhEMbFa"
      },
      "outputs": [
        {
          "name": "stdout",
          "output_type": "stream",
          "text": [
            "Using endpoint [https://us-central1-ml.googleapis.com/]\n",
            "createTime: '2021-10-22T10:04:19Z'\n",
            "deploymentUri: gs://bbs-2021-opml4b-explainability/explanations/mymodel\n",
            "etag: aEdkYSb45jQ=\n",
            "explanationConfig:\n",
            "  integratedGradientsAttribution:\n",
            "    numIntegralSteps: 25\n",
            "framework: TENSORFLOW\n",
            "isDefault: true\n",
            "lastUseTime: '2021-10-22T10:19:16Z'\n",
            "machineType: n1-standard-4\n",
            "name: projects/formazione-riccardo-zanella/models/bike/versions/v1\n",
            "pythonVersion: '3.7'\n",
            "runtimeVersion: '2.1'\n",
            "state: READY\n"
          ]
        }
      ],
      "source": [
        "# Make sure the model deployed correctly. State should be `READY` in the following log\n",
        "! gcloud ai-platform versions describe $VERSION --region $REGION --model $MODEL"
      ]
    },
    {
      "cell_type": "markdown",
      "metadata": {
        "deletable": true,
        "editable": true,
        "id": "JzevJps9IOcU"
      },
      "source": [
        "## Get predictions and explanations\n",
        "\n",
        "Now that your model is deployed, you can use the AI Platform Prediction API to get feature attributions. You'll pass it a single test example here and see which features were most important in the model's prediction. Here you'll use the [Explainable AI SDK](https://pypi.org/project/explainable-ai-sdk/) to get your prediction and explanation. You can also use `gcloud`."
      ]
    },
    {
      "cell_type": "markdown",
      "metadata": {
        "id": "CJ-2ErWJDvcg"
      },
      "source": [
        "### Format your explanation request\n",
        "\n",
        "To make your AI Explanations request, you need to create a JSON object with your test data for prediction."
      ]
    },
    {
      "cell_type": "code",
      "execution_count": 25,
      "metadata": {
        "id": "D_PR2BcHD40-"
      },
      "outputs": [],
      "source": [
        "# Format data for prediction to your model\n",
        "prediction_json = {model.input.name.split(':')[0]: test_data.iloc[0].values.tolist()}"
      ]
    },
    {
      "cell_type": "markdown",
      "metadata": {
        "id": "kw7_f9QVD8Y_"
      },
      "source": [
        "### Send the explain request\n",
        "\n",
        "You can use the Explainable AI SDK to send explanation requests to your deployed model."
      ]
    },
    {
      "cell_type": "code",
      "execution_count": 26,
      "metadata": {
        "id": "9K1yt7z69iXY"
      },
      "outputs": [],
      "source": [
        "import explainable_ai_sdk\n",
        "remote_ig_model = explainable_ai_sdk.load_model_from_ai_platform(PROJECT_ID, MODEL, VERSION, region=REGION)\n",
        "ig_response = remote_ig_model.explain([prediction_json])"
      ]
    },
    {
      "cell_type": "markdown",
      "metadata": {
        "id": "0nKR8RelNnkK"
      },
      "source": [
        "### Understanding the explanations response\n",
        "\n",
        "First, let's look at the trip duration your model predicted and compare it to the actual value"
      ]
    },
    {
      "cell_type": "code",
      "execution_count": 27,
      "metadata": {
        "id": "825KoNgHR-tv"
      },
      "outputs": [
        {
          "name": "stdout",
          "output_type": "stream",
          "text": [
            "Predicted duration: 16.65 minutes\n",
            "Actual duration: 22.0 minutes\n"
          ]
        }
      ],
      "source": [
        "attr = ig_response[0].get_attribution()\n",
        "\n",
        "predicted = round(attr.example_score, 2)\n",
        "print('Predicted duration: ' + str(predicted) + ' minutes')\n",
        "print('Actual duration: ' + str(test_labels.iloc[0]) + ' minutes')"
      ]
    },
    {
      "cell_type": "markdown",
      "metadata": {
        "id": "QmObtmXIONDp"
      },
      "source": [
        "Next let's look at the feature attributions for this particular example. Positive attribution values mean a particular feature pushed your model prediction up by that amount, and vice versa for negative attribution values."
      ]
    },
    {
      "cell_type": "code",
      "execution_count": 28,
      "metadata": {
        "id": "6HKvAImeM_qi"
      },
      "outputs": [
        {
          "name": "stdout",
          "output_type": "stream",
          "text": [
            "Label Index 0\n",
            "Example Score: 16.6543\n",
            "Baseline Score: 13.0743\n",
            "Approximation Error: 0.0000\n"
          ]
        },
        {
          "data": {
            "image/png": "[encoded data removed]",
            "text/plain": [
              "<Figure size 432x288 with 1 Axes>"
            ]
          },
          "metadata": {
            "needs_background": "light"
          },
          "output_type": "display_data"
        }
      ],
      "source": [
        "ig_response[0].visualize_attributions()"
      ]
    },
    {
      "cell_type": "markdown",
      "metadata": {
        "id": "BZiM7kywQy6j"
      },
      "source": [
        "## Check your explanations and baselines\n",
        "\n",
        "To better make sense of the feature attributions you're getting, you should compare them with your model's baseline. In most cases, the sum of your attribution values + the baseline should be very close to your model's predicted value for each input. Also note that for regression models, the `baseline_score` returned from AI Explanations will be the same for each example sent to your model. For classification models, each class will have its own baseline.\n",
        "\n",
        "In this section you'll send 10 test examples to your model for prediction in order to compare the feature attributions with the baseline. Then you'll run each test example's attributions through two sanity checks in the `sanity_check_explanations` method."
      ]
    },
    {
      "cell_type": "code",
      "execution_count": 29,
      "metadata": {
        "id": "CSf6psVDSDrN"
      },
      "outputs": [],
      "source": [
        "# Prepare 10 test examples to your model for prediction\n",
        "pred_batch = []\n",
        "for i in range(10):\n",
        "    pred_batch.append({model.input.name.split(':')[0]: test_data.iloc[i].values.tolist()})"
      ]
    },
    {
      "cell_type": "code",
      "execution_count": 30,
      "metadata": {
        "id": "M-lqktTI9iXj"
      },
      "outputs": [],
      "source": [
        "test_response = remote_ig_model.explain(pred_batch)"
      ]
    },
    {
      "cell_type": "markdown",
      "metadata": {
        "id": "vEevMCrMNjxm"
      },
      "source": [
        "In the function below you perform two sanity checks for models using Integrated Gradient (IG) explanations and one sanity check for models using Sampled Shapley."
      ]
    },
    {
      "cell_type": "code",
      "execution_count": 31,
      "metadata": {
        "id": "B_WQXkE6RLe4"
      },
      "outputs": [],
      "source": [
        "def sanity_check_explanations(example, mean_tgt_value=None, variance_tgt_value=None):\n",
        "    passed_test = 0\n",
        "    total_test = 1\n",
        "    # `attributions` is a dict where keys are the feature names\n",
        "    # and values are the feature attributions for each feature\n",
        "    attr = example.get_attribution()\n",
        "    baseline_score = attr.baseline_score\n",
        "    # sum_with_baseline = np.sum(attribution_vals) + baseline_score\n",
        "    predicted_val = attr.example_score\n",
        "\n",
        "    # Sanity check 1\n",
        "    # The prediction at the input is equal to that at the baseline.\n",
        "    #  Please use a different baseline. Some suggestions are: random input, training\n",
        "    #  set mean.\n",
        "    if abs(predicted_val - baseline_score) <= 0.05:\n",
        "        print('Warning: example score and baseline score are too close.')\n",
        "        print('You might not get attributions.')\n",
        "    else:\n",
        "        passed_test += 1\n",
        "\n",
        "    # Sanity check 2 (only for models using Integrated Gradient explanations)\n",
        "    # Ideally, the sum of the integrated gradients must be equal to the difference\n",
        "    # in the prediction probability at the input and baseline. Any discrepency in\n",
        "    # these two values is due to the errors in approximating the integral.\n",
        "    if explain_method == 'integrated-gradients':\n",
        "        total_test += 1\n",
        "        want_integral = predicted_val - baseline_score\n",
        "        got_integral = sum(attr.post_processed_attributions.values())\n",
        "        if abs(want_integral - got_integral) / abs(want_integral) > 0.05:\n",
        "            print('Warning: Integral approximation error exceeds 5%.')\n",
        "            print('Please try increasing the number of integrated gradient steps.')\n",
        "        else:\n",
        "            passed_test += 1\n",
        "\n",
        "    print(passed_test, ' out of ', total_test, ' sanity checks passed.')"
      ]
    },
    {
      "cell_type": "code",
      "execution_count": 32,
      "metadata": {
        "id": "dkpK830AtRkJ"
      },
      "outputs": [
        {
          "name": "stdout",
          "output_type": "stream",
          "text": [
            "2  out of  2  sanity checks passed.\n",
            "2  out of  2  sanity checks passed.\n",
            "2  out of  2  sanity checks passed.\n",
            "2  out of  2  sanity checks passed.\n",
            "2  out of  2  sanity checks passed.\n",
            "2  out of  2  sanity checks passed.\n",
            "2  out of  2  sanity checks passed.\n",
            "2  out of  2  sanity checks passed.\n",
            "2  out of  2  sanity checks passed.\n",
            "2  out of  2  sanity checks passed.\n"
          ]
        }
      ],
      "source": [
        "for response in test_response:\n",
        "    sanity_check_explanations(response)"
      ]
    },
    {
      "cell_type": "markdown",
      "metadata": {
        "id": "C5ur65baOmnn"
      },
      "source": [
        "## Understanding AI Explanations with the What-If Tool\n",
        "\n",
        "In this section you'll use the [What-If Tool](https://pair-code.github.io/what-if-tool/) to better understand how your model is making predictions. See the cell below the What-if Tool for visualization ideas."
      ]
    },
    {
      "cell_type": "markdown",
      "metadata": {
        "id": "OFO6s8ZsvKT_"
      },
      "source": [
        "The What-If-Tool expects data with keys for each feature name, but your model expects a flat list. The functions below convert data to the format required by the What-If Tool."
      ]
    },
    {
      "cell_type": "code",
      "execution_count": 39,
      "metadata": {
        "id": "-yajpXi4Oyc3"
      },
      "outputs": [],
      "source": [
        "# This is the number of data points you'll send to the What-if Tool\n",
        "WHAT_IF_TOOL_SIZE = 500\n",
        "\n",
        "from witwidget.notebook.visualization import WitWidget, WitConfigBuilder\n",
        "\n",
        "\n",
        "def create_list(ex_dict):\n",
        "    new_list = []\n",
        "    for i in feature_names:\n",
        "        new_list.append(ex_dict[i])\n",
        "    return new_list\n",
        "\n",
        "\n",
        "def example_dict_to_input(example_dict):\n",
        "    return {'dense_input': create_list(example_dict)}\n",
        "\n",
        "\n",
        "from collections import OrderedDict\n",
        "wit_data = test_data.iloc[:WHAT_IF_TOOL_SIZE].copy()\n",
        "wit_data['duration'] = test_labels[:WHAT_IF_TOOL_SIZE]\n",
        "wit_data_dict = wit_data.to_dict(orient='records', into=OrderedDict)"
      ]
    },
    {
      "cell_type": "code",
      "execution_count": 40,
      "metadata": {
        "id": "3I2bEUe7Pr2Y"
      },
      "outputs": [
        {
          "data": {
            "text/html": [
              "<style>.container { width:100% !important; }</style>"
            ],
            "text/plain": [
              "<IPython.core.display.HTML object>"
            ]
          },
          "metadata": {},
          "output_type": "display_data"
        },
        {
          "data": {
            "application/vnd.jupyter.widget-view+json": {
              "model_id": "c495a6e4e1b34a80800bafbd36b0681e",
              "version_major": 2,
              "version_minor": 0
            },
            "text/plain": [
              "WitWidget(config={'model_type': 'regression', 'label_vocab': [], 'uses_json_input': True, 'inference_address':…"
            ]
          },
          "metadata": {},
          "output_type": "display_data"
        }
      ],
      "source": [
        "config_builder = WitConfigBuilder(\n",
        "    wit_data_dict\n",
        ").set_ai_platform_model(\n",
        "    PROJECT_ID,\n",
        "    MODEL,\n",
        "    VERSION,\n",
        "    adjust_example=example_dict_to_input\n",
        ").set_target_feature('duration').set_model_type('regression')\n",
        "\n",
        "WitWidget(config_builder)"
      ]
    },
    {
      "cell_type": "markdown",
      "metadata": {
        "id": "hWmNoC6FxOAt"
      },
      "source": [
        "### What-If Tool visualization ideas\n",
        "\n",
        "On the x-axis, you'll see the predicted trip duration for the test inputs you passed to the What-If Tool. Each circle represents one of your test examples. If you click on a circle, you'll be able to see the feature values for that example along with the attribution values for each feature. \n",
        "\n",
        "* You can edit individual feature values and re-run prediction directly within the What-If Tool. Try changing `distance`, click **Run inference** and see how that affects the model's prediction\n",
        "* You can sort features for an individual example by their attribution value, try changing the sort from the attributions dropdown\n",
        "* The What-If Tool also lets you create custom visualizations. You can do this by changing the values in the dropdown menus above the scatter plot visualization. For example, you can sort data points by inference error, or by their similarity to a single datapoint."
      ]
    },
    {
      "cell_type": "markdown",
      "metadata": {
        "deletable": true,
        "editable": true,
        "id": "3F2g4OjbJ3gZ"
      },
      "source": [
        "If your Cloud Storage bucket doesn't contain any other objects and you would like to delete it, run `gsutil rm -r gs://$BUCKET_NAME`."
      ]
    },
    {
      "cell_type": "markdown",
      "metadata": {
        "deletable": true,
        "editable": true,
        "id": "K0UXLWaBJnrY"
      },
      "source": [
        "## What's next?\n",
        "\n",
        "To learn more about AI Explanations or the What-if Tool, check out the resources here.\n",
        "\n",
        "* [AI Explanations documentation](cloud.google.com/ml-engine/docs/ai-explanations)\n",
        "* [Documentation for using the What-if Tool with Cloud AI Platform models ](https://cloud.google.com/ml-engine/docs/using-what-if-tool) \n",
        "* [What-If Tool documentation and demos](https://pair-code.github.io/what-if-tool/)\n",
        "* [Integrated gradients paper](https://arxiv.org/abs/1703.01365)"
      ]
    }
  ],
  "metadata": {
    "colab": {
      "collapsed_sections": [],
      "name": "ai-explanations-tabular.ipynb",
      "provenance": [],
      "toc_visible": true
    },
    "interpreter": {
      "hash": "564b7b694546c621da9d6821e01f599815a761b7862c6a664e5ab5e1f8729b63"
    },
    "kernelspec": {
      "display_name": "Python 3.7.3 64-bit ('.venv': venv)",
      "name": "python3"
    },
    "language_info": {
      "codemirror_mode": {
        "name": "ipython",
        "version": 3
      },
      "file_extension": ".py",
      "mimetype": "text/x-python",
      "name": "python",
      "nbconvert_exporter": "python",
      "pygments_lexer": "ipython3",
      "version": "3.7.3"
    }
  },
  "nbformat": 4,
  "nbformat_minor": 0
}
