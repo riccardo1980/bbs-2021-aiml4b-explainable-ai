{
 "cells": [
  {
   "cell_type": "code",
   "execution_count": 1,
   "metadata": {},
   "outputs": [],
   "source": [
    "PROJECT_ID = \"formazione-riccardo-zanella\"\n",
    "REGION = 'us-central1'\n",
    "BUCKET_NAME = \"bbs-2021-opml4b-explainability\""
   ]
  },
  {
   "cell_type": "code",
   "execution_count": 12,
   "metadata": {},
   "outputs": [],
   "source": [
    "EXPORT_PATH = 'gs://' + BUCKET_NAME + '/mdl/image_data/image_data_20211103_112738/model/'\n",
    "# EXPORT_PATH = '../../mdl/image_data/image_data_20211103_112738/model/'\n",
    "MODEL = 'flowers'"
   ]
  },
  {
   "cell_type": "markdown",
   "metadata": {},
   "source": [
    "# Model load"
   ]
  },
  {
   "cell_type": "code",
   "execution_count": 6,
   "metadata": {},
   "outputs": [],
   "source": [
    "import tensorflow as tf\n",
    "import numpy as np"
   ]
  },
  {
   "cell_type": "code",
   "execution_count": 7,
   "metadata": {},
   "outputs": [
    {
     "name": "stdout",
     "output_type": "stream",
     "text": [
      "WARNING:tensorflow:SavedModel saved prior to TF 2.5 detected when loading Keras model. Please ensure that you are saving the model with model.save() or tf.keras.models.save_model(), *NOT* tf.saved_model.save(). To confirm, there should be a file named \"keras_metadata.pb\" in the SavedModel directory.\n",
      "Model input tensor:  conv2d_input\n",
      "Model output tensor:  dense/Softmax:0\n"
     ]
    }
   ],
   "source": [
    "model = tf.keras.models.load_model(EXPORT_PATH)\n",
    "# Print the names of your tensors\n",
    "print('Model input tensor: ', model.input.name)\n",
    "print('Model output tensor: ', model.output.name)"
   ]
  },
  {
   "cell_type": "markdown",
   "metadata": {},
   "source": [
    "## Check for all needed signatures"
   ]
  },
  {
   "cell_type": "code",
   "execution_count": 8,
   "metadata": {},
   "outputs": [
    {
     "name": "stdout",
     "output_type": "stream",
     "text": [
      "numpy_inputs\n",
      "output_0\n",
      "bytes_inputs\n"
     ]
    }
   ],
   "source": [
    "input_name = list(model.signatures['xai_model'].structured_input_signature[1].keys())[0]\n",
    "print(input_name)\n",
    "\n",
    "output_name = list(model.signatures['xai_model'].structured_outputs.keys())[0]\n",
    "print(output_name)\n",
    "\n",
    "preprocess_name = list(model.signatures['xai_preprocess'].structured_input_signature[1].keys())[0]\n",
    "print(preprocess_name)"
   ]
  },
  {
   "cell_type": "code",
   "execution_count": 9,
   "metadata": {},
   "outputs": [],
   "source": [
    "from explainable_ai_sdk.metadata.tf.v2 import SavedModelMetadataBuilder\n",
    "# We want to explain 'xai_model' signature.\n",
    "builder = SavedModelMetadataBuilder(EXPORT_PATH, signature_name='xai_model')\n",
    "random_baseline = np.random.rand(192, 192, 3)\n",
    "builder.set_image_metadata(\n",
    "    'numpy_inputs',\n",
    "    input_baselines=[random_baseline.tolist()])\n",
    "builder.save_metadata(EXPORT_PATH)"
   ]
  },
  {
   "cell_type": "markdown",
   "metadata": {},
   "source": [
    "# Model deploy"
   ]
  },
  {
   "cell_type": "code",
   "execution_count": 10,
   "metadata": {},
   "outputs": [
    {
     "name": "stdout",
     "output_type": "stream",
     "text": [
      "Using endpoint [https://us-central1-ml.googleapis.com/]\n",
      "Created ai platform model [projects/formazione-riccardo-zanella/models/flowers].\n",
      "\n",
      "\n",
      "To take a quick anonymous survey, run:\n",
      "  $ gcloud survey\n",
      "\n"
     ]
    }
   ],
   "source": [
    "! gcloud ai-platform models create $MODEL --enable-logging --region=$REGION"
   ]
  },
  {
   "cell_type": "code",
   "execution_count": 11,
   "metadata": {},
   "outputs": [],
   "source": [
    "VERSION = 'v1'"
   ]
  },
  {
   "cell_type": "code",
   "execution_count": 13,
   "metadata": {},
   "outputs": [
    {
     "name": "stdout",
     "output_type": "stream",
     "text": [
      "Using endpoint [https://us-central1-ml.googleapis.com/]\n",
      "Creating version (this might take a few minutes)......done.\n"
     ]
    }
   ],
   "source": [
    "! gcloud beta ai-platform versions create $VERSION --region=$REGION \\\n",
    "--model $MODEL \\\n",
    "--origin $EXPORT_PATH \\\n",
    "--runtime-version 2.4 \\\n",
    "--framework TENSORFLOW \\\n",
    "--python-version 3.7 \\\n",
    "--machine-type n1-standard-4"
   ]
  }
 ],
 "metadata": {
  "interpreter": {
   "hash": "a0084c784bc1853f1457fd28c44f23a4ba2b730805a7884d767b56d58b716959"
  },
  "kernelspec": {
   "display_name": "Python 3.7.3 64-bit ('.venv': venv)",
   "name": "python3"
  },
  "language_info": {
   "codemirror_mode": {
    "name": "ipython",
    "version": 3
   },
   "file_extension": ".py",
   "mimetype": "text/x-python",
   "name": "python",
   "nbconvert_exporter": "python",
   "pygments_lexer": "ipython3",
   "version": "3.7.3"
  },
  "orig_nbformat": 4
 },
 "nbformat": 4,
 "nbformat_minor": 2
}
