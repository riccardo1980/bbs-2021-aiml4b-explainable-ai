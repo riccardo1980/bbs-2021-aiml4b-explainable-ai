{
  "cells": [
    {
      "cell_type": "code",
      "execution_count": 2,
      "metadata": {
        "deletable": true,
        "editable": true,
        "id": "4qxwBA4RM9Lu"
      },
      "outputs": [],
      "source": [
        "PROJECT_ID = \"formazione-riccardo-zanella\" #@param {type: \"string\"}\n",
        "REGION = 'us-central1' #@param {type: \"string\"}\n",
        "BUCKET_NAME = \"bbs-2021-opml4b-explainability\" #@param {type:\"string\"}"
      ]
    },
    {
      "cell_type": "code",
      "execution_count": 3,
      "metadata": {},
      "outputs": [
        {
          "name": "stdout",
          "output_type": "stream",
          "text": [
            "Copying gs://explanations_sample_data/bike-data.csv...\n",
            "Skipping attempt to download to filename ending with slash (../data/).\n",
            "This typically happens when using gsutil to download from a\n",
            "subdirectory created by the Cloud Console\n",
            "(https://cloud.google.com/console)\n",
            "\n",
            "Operation completed over 1 objects/265.3 MiB.                                    \n"
          ]
        }
      ],
      "source": [
        "# copy data to local\n",
        "! gsutil cp 'gs://explanations_sample_data/bike-data.csv' ../data/"
      ]
    },
    {
      "cell_type": "code",
      "execution_count": 4,
      "metadata": {},
      "outputs": [],
      "source": [
        "import pandas as pd"
      ]
    },
    {
      "cell_type": "code",
      "execution_count": 6,
      "metadata": {
        "deletable": true,
        "editable": true,
        "id": "Icz22E69smnD"
      },
      "outputs": [],
      "source": [
        "data = pd.read_csv('../../data/bike-data.csv')\n",
        "\n",
        "# Shuffle the data\n",
        "data = data.sample(frac=1, random_state=2)\n",
        "\n",
        "# Drop rows with null values\n",
        "data = data[data['wdsp'] != 999.9]\n",
        "data = data[data['dewp'] != 9999.9]\n",
        "\n",
        "# Rename some columns for readability\n",
        "data = data.rename(columns={'day_of_week': 'weekday'})\n",
        "data = data.rename(columns={'max': 'max_temp'})\n",
        "data = data.rename(columns={'dewp': 'dew_point'})\n",
        "\n",
        "# Drop columns you won't use to train this model\n",
        "data = data.drop(columns=['start_station_name', 'end_station_name', 'bike_id', 'snow_ice_pellets'])\n",
        "\n",
        "# Convert trip duration from seconds to minutes so it's easier to understand\n",
        "data['duration'] = data['duration'].apply(lambda x: float(x / 60))"
      ]
    },
    {
      "cell_type": "markdown",
      "metadata": {
        "id": "FAuenzty9iWf"
      },
      "source": [
        "Let's take a look at the first five rows of your data in the panda dataframe"
      ]
    },
    {
      "cell_type": "code",
      "execution_count": 7,
      "metadata": {
        "id": "vxZryg4xmdy0"
      },
      "outputs": [
        {
          "data": {
            "text/html": [
              "<div>\n",
              "<style scoped>\n",
              "    .dataframe tbody tr th:only-of-type {\n",
              "        vertical-align: middle;\n",
              "    }\n",
              "\n",
              "    .dataframe tbody tr th {\n",
              "        vertical-align: top;\n",
              "    }\n",
              "\n",
              "    .dataframe thead th {\n",
              "        text-align: right;\n",
              "    }\n",
              "</style>\n",
              "<table border=\"1\" class=\"dataframe\">\n",
              "  <thead>\n",
              "    <tr style=\"text-align: right;\">\n",
              "      <th></th>\n",
              "      <th>start_hr</th>\n",
              "      <th>weekday</th>\n",
              "      <th>euclidean</th>\n",
              "      <th>temp</th>\n",
              "      <th>dew_point</th>\n",
              "      <th>wdsp</th>\n",
              "      <th>max_temp</th>\n",
              "      <th>fog</th>\n",
              "      <th>prcp</th>\n",
              "      <th>rain_drizzle</th>\n",
              "      <th>duration</th>\n",
              "    </tr>\n",
              "  </thead>\n",
              "  <tbody>\n",
              "    <tr>\n",
              "      <th>1559391</th>\n",
              "      <td>21</td>\n",
              "      <td>4</td>\n",
              "      <td>582.724880</td>\n",
              "      <td>54.7</td>\n",
              "      <td>46.2</td>\n",
              "      <td>0.0</td>\n",
              "      <td>56.3</td>\n",
              "      <td>0</td>\n",
              "      <td>0.00</td>\n",
              "      <td>0</td>\n",
              "      <td>22.0</td>\n",
              "    </tr>\n",
              "    <tr>\n",
              "      <th>1881386</th>\n",
              "      <td>16</td>\n",
              "      <td>2</td>\n",
              "      <td>2358.922742</td>\n",
              "      <td>57.1</td>\n",
              "      <td>48.2</td>\n",
              "      <td>0.0</td>\n",
              "      <td>64.9</td>\n",
              "      <td>0</td>\n",
              "      <td>0.00</td>\n",
              "      <td>0</td>\n",
              "      <td>12.0</td>\n",
              "    </tr>\n",
              "    <tr>\n",
              "      <th>703461</th>\n",
              "      <td>23</td>\n",
              "      <td>1</td>\n",
              "      <td>766.066253</td>\n",
              "      <td>69.2</td>\n",
              "      <td>51.6</td>\n",
              "      <td>0.0</td>\n",
              "      <td>80.4</td>\n",
              "      <td>0</td>\n",
              "      <td>0.00</td>\n",
              "      <td>0</td>\n",
              "      <td>12.0</td>\n",
              "    </tr>\n",
              "    <tr>\n",
              "      <th>1688076</th>\n",
              "      <td>9</td>\n",
              "      <td>5</td>\n",
              "      <td>2271.877229</td>\n",
              "      <td>52.5</td>\n",
              "      <td>45.4</td>\n",
              "      <td>0.0</td>\n",
              "      <td>63.3</td>\n",
              "      <td>0</td>\n",
              "      <td>0.02</td>\n",
              "      <td>0</td>\n",
              "      <td>13.0</td>\n",
              "    </tr>\n",
              "    <tr>\n",
              "      <th>2079007</th>\n",
              "      <td>14</td>\n",
              "      <td>7</td>\n",
              "      <td>2476.718116</td>\n",
              "      <td>50.3</td>\n",
              "      <td>43.5</td>\n",
              "      <td>0.0</td>\n",
              "      <td>56.1</td>\n",
              "      <td>0</td>\n",
              "      <td>0.01</td>\n",
              "      <td>0</td>\n",
              "      <td>28.0</td>\n",
              "    </tr>\n",
              "  </tbody>\n",
              "</table>\n",
              "</div>"
            ],
            "text/plain": [
              "         start_hr  weekday    euclidean  temp  dew_point  wdsp  max_temp  fog  \\\n",
              "1559391        21        4   582.724880  54.7       46.2   0.0      56.3    0   \n",
              "1881386        16        2  2358.922742  57.1       48.2   0.0      64.9    0   \n",
              "703461         23        1   766.066253  69.2       51.6   0.0      80.4    0   \n",
              "1688076         9        5  2271.877229  52.5       45.4   0.0      63.3    0   \n",
              "2079007        14        7  2476.718116  50.3       43.5   0.0      56.1    0   \n",
              "\n",
              "         prcp  rain_drizzle  duration  \n",
              "1559391  0.00             0      22.0  \n",
              "1881386  0.00             0      12.0  \n",
              "703461   0.00             0      12.0  \n",
              "1688076  0.02             0      13.0  \n",
              "2079007  0.01             0      28.0  "
            ]
          },
          "execution_count": 7,
          "metadata": {},
          "output_type": "execute_result"
        }
      ],
      "source": [
        "# Preview the first 5 rows\n",
        "data.head()"
      ]
    },
    {
      "cell_type": "markdown",
      "metadata": {
        "id": "rXfCbcox9iWi"
      },
      "source": [
        "Next, you will separate the data into features ('data') and labels ('labels')"
      ]
    },
    {
      "cell_type": "markdown",
      "metadata": {
        "deletable": true,
        "editable": true,
        "id": "iSrzwuchvcgv"
      },
      "source": [
        "### Split data into train and test sets\n",
        "\n",
        "You'll split your data into train and test sets using an 80 / 20 train / test split."
      ]
    },
    {
      "cell_type": "code",
      "execution_count": 8,
      "metadata": {
        "deletable": true,
        "editable": true,
        "id": "D5PIljnYveDN"
      },
      "outputs": [
        {
          "name": "stdout",
          "output_type": "stream",
          "text": [
            "Train size: 757363\n",
            "Test size: 189341\n"
          ]
        }
      ],
      "source": [
        "# Use 80/20 train/test split\n",
        "train_size = int(len(data) * .8)\n",
        "print(\"Train size: %d\" % train_size)\n",
        "print(\"Test size: %d\" % (len(data) - train_size))\n",
        "\n",
        "# Split your data into train and test sets\n",
        "train_data = data[:train_size]\n",
        "\n",
        "test_data = data[train_size:]"
      ]
    },
    {
      "cell_type": "code",
      "execution_count": 9,
      "metadata": {},
      "outputs": [],
      "source": [
        "train_data.to_csv('../../data/train.csv', encoding='utf-8', index=False)\n",
        "test_data.to_csv('../../data/test.csv', encoding='utf-8', index=False)"
      ]
    },
    {
      "cell_type": "code",
      "execution_count": 11,
      "metadata": {},
      "outputs": [
        {
          "name": "stdout",
          "output_type": "stream",
          "text": [
            "Copying file://../../data/train.csv [Content-Type=text/csv]...\n",
            "Copying file://../../data/test.csv [Content-Type=text/csv]...\n",
            "\n",
            "Operation completed over 2 objects/49.4 MiB.                                     \n"
          ]
        }
      ],
      "source": [
        "# upload\n",
        "! gsutil -m cp ../../data/train.csv ../../data/test.csv \"gs://$BUCKET_NAME/data/tabular_data\""
      ]
    }
  ],
  "metadata": {
    "colab": {
      "collapsed_sections": [],
      "name": "ai-explanations-tabular.ipynb",
      "provenance": [],
      "toc_visible": true
    },
    "interpreter": {
      "hash": "a0084c784bc1853f1457fd28c44f23a4ba2b730805a7884d767b56d58b716959"
    },
    "kernelspec": {
      "display_name": "Python 3.7.3 64-bit ('.venv': venv)",
      "name": "python3"
    },
    "language_info": {
      "codemirror_mode": {
        "name": "ipython",
        "version": 3
      },
      "file_extension": ".py",
      "mimetype": "text/x-python",
      "name": "python",
      "nbconvert_exporter": "python",
      "pygments_lexer": "ipython3",
      "version": "3.7.3"
    }
  },
  "nbformat": 4,
  "nbformat_minor": 0
}
