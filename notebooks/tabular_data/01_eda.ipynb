{
 "cells": [
  {
   "cell_type": "code",
   "execution_count": 1,
   "metadata": {},
   "outputs": [],
   "source": [
    "from pandas_profiling import ProfileReport\n",
    "import pandas as pd"
   ]
  },
  {
   "cell_type": "code",
   "execution_count": 2,
   "metadata": {},
   "outputs": [],
   "source": [
    "DATASET = '../../data/tabular_data/bike-data.csv'\n",
    "BUCKET_NAME = \"bbs-2021-opml4b-explainability\""
   ]
  },
  {
   "cell_type": "code",
   "execution_count": 3,
   "metadata": {},
   "outputs": [],
   "source": [
    "data = pd.read_csv(DATASET)\n",
    "\n",
    "# Shuffle the data\n",
    "data = data.sample(frac=1, random_state=2)\n",
    "\n",
    "# Drop rows with null values\n",
    "data = data[data['wdsp'] != 999.9]\n",
    "data = data[data['dewp'] != 9999.9]\n",
    "\n",
    "# Rename some columns for readability\n",
    "data = data.rename(columns={'day_of_week': 'weekday'})\n",
    "data = data.rename(columns={'max': 'max_temp'})\n",
    "data = data.rename(columns={'dewp': 'dew_point'})\n",
    "\n",
    "# Drop columns you won't use to train this model\n",
    "data = data.drop(columns=['start_station_name', 'end_station_name', 'bike_id', 'snow_ice_pellets'])\n",
    "\n",
    "# Convert trip duration from seconds to minutes so it's easier to understand\n",
    "data['duration'] = data['duration'].apply(lambda x: float(x / 60))"
   ]
  },
  {
   "cell_type": "code",
   "execution_count": 4,
   "metadata": {},
   "outputs": [
    {
     "data": {
      "application/vnd.jupyter.widget-view+json": {
       "model_id": "9e9aa8a968934771ace77e73bdd93b5f",
       "version_major": 2,
       "version_minor": 0
      },
      "text/plain": [
       "Summarize dataset:   0%|          | 0/5 [00:00<?, ?it/s]"
      ]
     },
     "metadata": {},
     "output_type": "display_data"
    },
    {
     "name": "stderr",
     "output_type": "stream",
     "text": [
      "/home/ricky/VSCODE/BBS/bbs-2021-aiml4b-explainable-ai/.venv/lib/python3.7/site-packages/scipy/stats/stats.py:4812: RuntimeWarning: overflow encountered in long_scalars\n",
      "  (2 * xtie * ytie) / m + x0 * y0 / (9 * m * (size - 2)))\n"
     ]
    },
    {
     "data": {
      "application/vnd.jupyter.widget-view+json": {
       "model_id": "8e41381ef9e64b038e183eba93230eaa",
       "version_major": 2,
       "version_minor": 0
      },
      "text/plain": [
       "Generate report structure:   0%|          | 0/1 [00:00<?, ?it/s]"
      ]
     },
     "metadata": {},
     "output_type": "display_data"
    },
    {
     "data": {
      "application/vnd.jupyter.widget-view+json": {
       "model_id": "d8e21b061188424f9a91ff7e832719ef",
       "version_major": 2,
       "version_minor": 0
      },
      "text/plain": [
       "Render HTML:   0%|          | 0/1 [00:00<?, ?it/s]"
      ]
     },
     "metadata": {},
     "output_type": "display_data"
    },
    {
     "data": {
      "application/vnd.jupyter.widget-view+json": {
       "model_id": "c6a2c0a01d0446188946970961fbe29e",
       "version_major": 2,
       "version_minor": 0
      },
      "text/plain": [
       "Export report to file:   0%|          | 0/1 [00:00<?, ?it/s]"
      ]
     },
     "metadata": {},
     "output_type": "display_data"
    }
   ],
   "source": [
    "profile = ProfileReport(data, title=\"Pandas Profiling Report\", explorative=True)\n",
    "profile.to_file(\"bike-data.html\")"
   ]
  },
  {
   "cell_type": "code",
   "execution_count": 5,
   "metadata": {},
   "outputs": [
    {
     "name": "stdout",
     "output_type": "stream",
     "text": [
      "Copying file://bike-data.html [Content-Type=text/html]...\n",
      "\n",
      "Operation completed over 1 objects/4.8 MiB.                                      \n"
     ]
    }
   ],
   "source": [
    "! gsutil cp bike-data.html gs://$BUCKET_NAME/data/tabular_data/"
   ]
  }
 ],
 "metadata": {
  "interpreter": {
   "hash": "a0084c784bc1853f1457fd28c44f23a4ba2b730805a7884d767b56d58b716959"
  },
  "kernelspec": {
   "display_name": "Python 3.7.3 64-bit ('.venv': venv)",
   "name": "python3"
  },
  "language_info": {
   "codemirror_mode": {
    "name": "ipython",
    "version": 3
   },
   "file_extension": ".py",
   "mimetype": "text/x-python",
   "name": "python",
   "nbconvert_exporter": "python",
   "pygments_lexer": "ipython3",
   "version": "3.7.3"
  },
  "orig_nbformat": 4
 },
 "nbformat": 4,
 "nbformat_minor": 2
}
