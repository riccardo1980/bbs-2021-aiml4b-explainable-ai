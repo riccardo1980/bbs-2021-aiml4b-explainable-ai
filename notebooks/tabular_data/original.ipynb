{
  "nbformat": 4,
  "nbformat_minor": 0,
  "metadata": {
    "colab": {
      "name": "ai-explanations-tabular.ipynb",
      "provenance": [],
      "collapsed_sections": [],
      "toc_visible": true
    },
    "kernelspec": {
      "display_name": "Python 3",
      "language": "python",
      "name": "python3"
    },
    "language_info": {
      "codemirror_mode": {
        "name": "ipython",
        "version": 3
      },
      "file_extension": ".py",
      "mimetype": "text/x-python",
      "name": "python",
      "nbconvert_exporter": "python",
      "pygments_lexer": "ipython3",
      "version": "3.7.6"
    }
  },
  "cells": [
    {
      "cell_type": "code",
      "metadata": {
        "cellView": "both",
        "deletable": true,
        "editable": true,
        "id": "qnMpW5Y9nv2l"
      },
      "source": [
        "# Copyright 2020 Google LLC\n",
        "#\n",
        "# Licensed under the Apache License, Version 2.0 (the \"License\");\n",
        "# you may not use this file except in compliance with the License.\n",
        "# You may obtain a copy of the License at\n",
        "#\n",
        "#     https://www.apache.org/licenses/LICENSE-2.0\n",
        "#\n",
        "# Unless required by applicable law or agreed to in writing, software\n",
        "# distributed under the License is distributed on an \"AS IS\" BASIS,\n",
        "# WITHOUT WARRANTIES OR CONDITIONS OF ANY KIND, either express or implied.\n",
        "# See the License for the specific language governing permissions and\n",
        "# limitations under the License."
      ],
      "execution_count": null,
      "outputs": []
    },
    {
      "cell_type": "markdown",
      "metadata": {
        "deletable": true,
        "editable": true,
        "id": "mHF9VCProKJN"
      },
      "source": [
        "# AI Explanations: Explaining a tabular data model\n",
        "\n",
        "<table align=\"left\">\n",
        "  <td>\n",
        "    <a href=\"https://colab.research.google.com/github/GoogleCloudPlatform/ai-platform-samples/tree/master/notebooks/samples/explanations/tf2/ai-explanations-tabular.ipynb\">\n",
        "      <img src=\"https://cloud.google.com/ml-engine/images/colab-logo-32px.png\" alt=\"Colab logo\"> Run in Colab\n",
        "    </a>\n",
        "  </td>\n",
        "  <td>\n",
        "    <a href=\"https://github.com/GoogleCloudPlatform/ai-platform-samples/tree/master/notebooks/samples/explanations/tf2/ai-explanations-tabular.ipynb\">\n",
        "      <img src=\"https://cloud.google.com/ml-engine/images/github-logo-32px.png\" alt=\"GitHub logo\">\n",
        "      View on GitHub\n",
        "    </a>\n",
        "  </td>\n",
        "</table>"
      ]
    },
    {
      "cell_type": "markdown",
      "metadata": {
        "deletable": true,
        "editable": true,
        "id": "hZzRVxNtH-zG"
      },
      "source": [
        "## Overview\n",
        "\n",
        "This tutorial shows how to train a Keras model on tabular data and deploy it to the AI Explanations service to get feature attributions on your deployed model.\n",
        "\n",
        "If you've already got a trained model and want to deploy it to AI Explanations, skip to the **Export the model as a TF 2 SavedModel** section."
      ]
    },
    {
      "cell_type": "markdown",
      "metadata": {
        "deletable": true,
        "editable": true,
        "id": "iN69d4D9Flrh"
      },
      "source": [
        "### Dataset\n",
        "\n",
        "The dataset used for this tutorial was created by combining two BigQuery Public Datasets: [London Bikeshare data](https://console.cloud.google.com/marketplace/details/greater-london-authority/london-bicycles?filter=solution-type%3Adataset&q=london%20bicycle%20hires&id=95374cac-2834-4fa2-a71f-fc033ccb5ce4) and [NOAA weather data](https://console.cloud.google.com/marketplace/details/noaa-public/gsod?filter=solution-type:dataset&q=noaa&id=c6c1b652-3958-4a47-9e58-552a546df47f). "
      ]
    },
    {
      "cell_type": "markdown",
      "metadata": {
        "deletable": true,
        "editable": true,
        "id": "Su2qu-4CW-YH"
      },
      "source": [
        "### Objective\n",
        "\n",
        "The goal is to train a model using the Keras Sequential API that predicts how long a bike trip took based on the trip start time, distance, day of week, and various weather data during that day. \n",
        "\n",
        "This tutorial focuses more on deploying the model to AI Explanations than on the design of the model itself. "
      ]
    },
    {
      "cell_type": "markdown",
      "metadata": {
        "deletable": true,
        "editable": true,
        "id": "912RD_3fxGeH"
      },
      "source": [
        "### Costs\n",
        "\n",
        "This tutorial uses billable components of Google Cloud Platform (GCP):\n",
        "\n",
        "* AI Platform for:\n",
        "  * Prediction\n",
        "  * Explanation: AI Explanations comes at no extra charge to prediction prices. However, explanation requests take longer to process than normal predictions, so heavy usage of AI Explanations along with auto-scaling may result in more nodes being started and thus more charges\n",
        "* Cloud Storage for:\n",
        "  * Storing model files for deploying to Cloud AI Platform\n",
        "\n",
        "Learn about [AI Platform\n",
        "pricing](https://cloud.google.com/ml-engine/docs/pricing) and [Cloud Storage\n",
        "pricing](https://cloud.google.com/storage/pricing), and use the [Pricing\n",
        "Calculator](https://cloud.google.com/products/calculator/)\n",
        "to generate a cost estimate based on your projected usage."
      ]
    },
    {
      "cell_type": "markdown",
      "metadata": {
        "deletable": true,
        "editable": true,
        "id": "rgLXkyHEvTVD"
      },
      "source": [
        "## Before you begin\n",
        "\n",
        "Make sure you're running this notebook in a **GPU runtime** if you have that option. In Colab, select **Runtime** --> **Change runtime type**\n"
      ]
    },
    {
      "cell_type": "markdown",
      "metadata": {
        "deletable": true,
        "editable": true,
        "id": "avDUUQEGTnUo"
      },
      "source": [
        "This tutorial assumes you are running the notebook either in **Colab** or **Cloud AI Platform Notebooks**."
      ]
    },
    {
      "cell_type": "markdown",
      "metadata": {
        "deletable": true,
        "editable": true,
        "id": "i2qsxysTVc-l"
      },
      "source": [
        "### Set up your GCP project\n",
        "\n",
        "**The following steps are required, regardless of your notebook environment.**\n",
        "\n",
        "1. [Select or create a GCP project.](https://console.cloud.google.com/cloud-resource-manager)\n",
        "\n",
        "2. [Make sure that billing is enabled for your project.](https://cloud.google.com/billing/docs/how-to/modify-project)\n",
        "\n",
        "3. [Enable the AI Platform Training & Prediction and Compute Engine APIs.](https://console.cloud.google.com/flows/enableapi?apiid=ml.googleapis.com,compute_component)\n",
        "\n",
        "4. Enter your project ID in the cell below. Then run the  cell to make sure the\n",
        "Cloud SDK uses the right project for all the commands in this notebook.\n",
        "\n",
        "**Note**: Jupyter runs lines prefixed with `!` as shell commands, and it interpolates Python variables prefixed with `$` into these commands."
      ]
    },
    {
      "cell_type": "markdown",
      "metadata": {
        "id": "8fBAiI4z9iV2"
      },
      "source": [
        "#### Project ID\n",
        "\n",
        "**If you don't know your project ID.**\n",
        "\n",
        "You might able to get your project ID using `gcloud` command, by executing the second code block below."
      ]
    },
    {
      "cell_type": "code",
      "metadata": {
        "deletable": true,
        "editable": true,
        "id": "4qxwBA4RM9Lu"
      },
      "source": [
        "PROJECT_ID = \"[your-project-id]\" #@param {type:\"string\"}"
      ],
      "execution_count": null,
      "outputs": []
    },
    {
      "cell_type": "code",
      "metadata": {
        "id": "PirKTpvc9iV8"
      },
      "source": [
        "if PROJECT_ID == \"\" or PROJECT_ID is None or PROJECT_ID == \"[your-project-id]\":\n",
        "    # Get your GCP project id from gcloud\n",
        "    shell_output = !gcloud config list --format 'value(core.project)' 2>/dev/null\n",
        "    PROJECT_ID = shell_output[0]\n",
        "    print(\"Project ID:\", PROJECT_ID)"
      ],
      "execution_count": null,
      "outputs": []
    },
    {
      "cell_type": "code",
      "metadata": {
        "id": "RisfuQYn9lJJ"
      },
      "source": [
        "!gcloud config set project $PROJECT_ID"
      ],
      "execution_count": null,
      "outputs": []
    },
    {
      "cell_type": "markdown",
      "metadata": {
        "id": "RRmsf7jG9iV_"
      },
      "source": [
        "#### Region\n",
        "\n",
        "You can also change the `REGION` variable, which is used for operations\n",
        "throughout the rest of this notebook. Make sure to [choose a region where Cloud\n",
        "AI Platform services are\n",
        "available](https://cloud.google.com/ml-engine/docs/tensorflow/regions). You can\n",
        "not use a Multi-Regional Storage bucket for training with AI Platform."
      ]
    },
    {
      "cell_type": "code",
      "metadata": {
        "id": "MqKd1EUc9iWA"
      },
      "source": [
        "REGION = 'us-central1' #@param {type: \"string\"}"
      ],
      "execution_count": null,
      "outputs": []
    },
    {
      "cell_type": "markdown",
      "metadata": {
        "id": "chZ3Xxlu9iWC"
      },
      "source": [
        "#### Timestamp\n",
        "\n",
        "If you are in a live tutorial session, you might be using a shared test account or project. To avoid name collisions between users on resources created, we create a timestamp for each instance session, and append onto the name of resources which will be created in this tutorial."
      ]
    },
    {
      "cell_type": "code",
      "metadata": {
        "id": "VxDuCyvx9iWD"
      },
      "source": [
        "from datetime import datetime\n",
        "\n",
        "TIMESTAMP = datetime.now().strftime(\"%Y%m%d%H%M%S\")"
      ],
      "execution_count": null,
      "outputs": []
    },
    {
      "cell_type": "markdown",
      "metadata": {
        "deletable": true,
        "editable": true,
        "id": "TSy-f05IO4LB"
      },
      "source": [
        "### Authenticate your GCP account\n",
        "\n",
        "**If you are using AI Platform Notebooks**, your environment is already\n",
        "authenticated. Skip this step."
      ]
    },
    {
      "cell_type": "markdown",
      "metadata": {
        "deletable": true,
        "editable": true,
        "id": "fZQUrHdXNJnk"
      },
      "source": [
        "**If you are using Colab**, run the cell below and follow the instructions\n",
        "when prompted to authenticate your account via oAuth."
      ]
    },
    {
      "cell_type": "code",
      "metadata": {
        "deletable": true,
        "editable": true,
        "id": "W9i6oektpgld"
      },
      "source": [
        "import sys\n",
        "import os\n",
        "import warnings\n",
        "\n",
        "warnings.filterwarnings('ignore')\n",
        "os.environ['TF_CPP_MIN_LOG_LEVEL'] = '3'\n",
        "# If you are running this notebook in Colab, follow the\n",
        "# instructions to authenticate your GCP account. This provides access to your\n",
        "# Cloud Storage bucket and lets you submit training jobs and prediction\n",
        "# requests.\n",
        "\n",
        "\n",
        "def install_dlvm_packages():\n",
        "    ! pip install tabulate\n",
        "\n",
        "\n",
        "if 'google.colab' in sys.modules:\n",
        "    from google.colab import auth as google_auth\n",
        "    google_auth.authenticate_user()\n",
        "    ! pip install witwidget --quiet\n",
        "    ! pip install tensorflow==2.2 --quiet\n",
        "    ! gcloud config set project $PROJECT_ID\n",
        "\n",
        "elif \"DL_PATH\" in os.environ:\n",
        "    install_dlvm_packages()"
      ],
      "execution_count": null,
      "outputs": []
    },
    {
      "cell_type": "markdown",
      "metadata": {
        "deletable": true,
        "editable": true,
        "id": "tT061irlJwkg"
      },
      "source": [
        "### Create a Cloud Storage bucket\n",
        "\n",
        "**The following steps are required, regardless of your notebook environment.**\n",
        "\n",
        "When you submit a training job using the Cloud SDK, you upload a Python package\n",
        "containing your training code to a Cloud Storage bucket. AI Platform runs\n",
        "the code from this package. In this tutorial, AI Platform also saves the\n",
        "trained model that results from your job in the same bucket. You can then\n",
        "create an AI Platform model version based on this output in order to serve\n",
        "online predictions.\n",
        "\n",
        "Set the name of your Cloud Storage bucket below. It must be unique across all\n",
        "Cloud Storage buckets. "
      ]
    },
    {
      "cell_type": "code",
      "metadata": {
        "id": "6uy_VUPw9iWL"
      },
      "source": [
        "BUCKET_NAME = \"[your-bucket-name]\" #@param {type:\"string\"}"
      ],
      "execution_count": null,
      "outputs": []
    },
    {
      "cell_type": "code",
      "metadata": {
        "deletable": true,
        "editable": true,
        "id": "bTxmbDg1I0x1"
      },
      "source": [
        "if BUCKET_NAME == \"\" or BUCKET_NAME is None or BUCKET_NAME == \"[your-bucket-name]\":\n",
        "    BUCKET_NAME = PROJECT_ID + \"_xai_flowers_\" + TIMESTAMP"
      ],
      "execution_count": null,
      "outputs": []
    },
    {
      "cell_type": "markdown",
      "metadata": {
        "deletable": true,
        "editable": true,
        "id": "fsmCk2dwJnLZ"
      },
      "source": [
        "**Only if your bucket doesn't already exist**: Run the following cell to create your Cloud Storage bucket."
      ]
    },
    {
      "cell_type": "code",
      "metadata": {
        "deletable": true,
        "editable": true,
        "id": "160PRO3aJqLD"
      },
      "source": [
        "! gsutil mb -l $REGION gs://$BUCKET_NAME"
      ],
      "execution_count": null,
      "outputs": []
    },
    {
      "cell_type": "markdown",
      "metadata": {
        "id": "PyxoF-iqqD1t"
      },
      "source": [
        "### Import libraries\n",
        "\n",
        "Import the libraries for this tutorial. This tutorial has been tested with **TensorFlow versions 2.1 and 2.2**."
      ]
    },
    {
      "cell_type": "code",
      "metadata": {
        "id": "MEDlLSWK15UL"
      },
      "source": [
        "import tensorflow as tf\n",
        "import pandas as pd\n",
        "\n",
        "# should be >= 2.1\n",
        "print(\"Tensorflow version \" + tf.__version__)\n",
        "if tf.__version__ < \"2.1\":\n",
        "    raise Exception(\"TF 2.1 or greater is required\")\n",
        "\n",
        "!pip install explainable-ai-sdk\n",
        "import explainable_ai_sdk"
      ],
      "execution_count": null,
      "outputs": []
    },
    {
      "cell_type": "markdown",
      "metadata": {
        "deletable": true,
        "editable": true,
        "id": "aRVMEU2Qshm4"
      },
      "source": [
        "## Download and preprocess the data\n",
        "\n",
        "In this section you'll download the data to train your model from a public GCS bucket. The original data is from the BigQuery datasets linked above. For your convenience, we've joined the London bike and NOAA weather tables, done some preprocessing, and provided a subset of that dataset here.\n"
      ]
    },
    {
      "cell_type": "code",
      "metadata": {
        "id": "v7HLNsvekxvz"
      },
      "source": [
        "# Copy the data to your notebook instance\n",
        "! gsutil cp 'gs://explanations_sample_data/bike-data.csv' ./"
      ],
      "execution_count": null,
      "outputs": []
    },
    {
      "cell_type": "markdown",
      "metadata": {
        "deletable": true,
        "editable": true,
        "id": "8zr6lj66UlMn"
      },
      "source": [
        "### Read the data with Pandas\n",
        "\n",
        "You'll use Pandas to read the data into a `DataFrame` and then do some additional pre-processing."
      ]
    },
    {
      "cell_type": "code",
      "metadata": {
        "deletable": true,
        "editable": true,
        "id": "Icz22E69smnD"
      },
      "source": [
        "data = pd.read_csv('bike-data.csv')\n",
        "\n",
        "# Shuffle the data\n",
        "data = data.sample(frac=1, random_state=2)\n",
        "\n",
        "# Drop rows with null values\n",
        "data = data[data['wdsp'] != 999.9]\n",
        "data = data[data['dewp'] != 9999.9]\n",
        "\n",
        "# Rename some columns for readability\n",
        "data = data.rename(columns={'day_of_week': 'weekday'})\n",
        "data = data.rename(columns={'max': 'max_temp'})\n",
        "data = data.rename(columns={'dewp': 'dew_point'})\n",
        "\n",
        "# Drop columns you won't use to train this model\n",
        "data = data.drop(columns=['start_station_name', 'end_station_name', 'bike_id', 'snow_ice_pellets'])\n",
        "\n",
        "# Convert trip duration from seconds to minutes so it's easier to understand\n",
        "data['duration'] = data['duration'].apply(lambda x: float(x / 60))"
      ],
      "execution_count": null,
      "outputs": []
    },
    {
      "cell_type": "markdown",
      "metadata": {
        "id": "FAuenzty9iWf"
      },
      "source": [
        "Let's take a look at the first five rows of your data in the panda dataframe"
      ]
    },
    {
      "cell_type": "code",
      "metadata": {
        "id": "vxZryg4xmdy0"
      },
      "source": [
        "# Preview the first 5 rows\n",
        "data.head()"
      ],
      "execution_count": null,
      "outputs": []
    },
    {
      "cell_type": "markdown",
      "metadata": {
        "id": "rXfCbcox9iWi"
      },
      "source": [
        "Next, you will separate the data into features ('data') and labels ('labels')"
      ]
    },
    {
      "cell_type": "code",
      "metadata": {
        "id": "YXLNDcfUvlr8"
      },
      "source": [
        "# Save duration to its own DataFrame and remove it from the original DataFrame\n",
        "labels = data['duration']\n",
        "data = data.drop(columns=['duration'])"
      ],
      "execution_count": null,
      "outputs": []
    },
    {
      "cell_type": "markdown",
      "metadata": {
        "deletable": true,
        "editable": true,
        "id": "iSrzwuchvcgv"
      },
      "source": [
        "### Split data into train and test sets\n",
        "\n",
        "You'll split your data into train and test sets using an 80 / 20 train / test split."
      ]
    },
    {
      "cell_type": "code",
      "metadata": {
        "deletable": true,
        "editable": true,
        "id": "D5PIljnYveDN"
      },
      "source": [
        "# Use 80/20 train/test split\n",
        "train_size = int(len(data) * .8)\n",
        "print(\"Train size: %d\" % train_size)\n",
        "print(\"Test size: %d\" % (len(data) - train_size))\n",
        "\n",
        "# Split your data into train and test sets\n",
        "train_data = data[:train_size]\n",
        "train_labels = labels[:train_size]\n",
        "\n",
        "test_data = data[train_size:]\n",
        "test_labels = labels[train_size:]"
      ],
      "execution_count": null,
      "outputs": []
    },
    {
      "cell_type": "markdown",
      "metadata": {
        "id": "kV_NEAQwwH0e"
      },
      "source": [
        "## Build, train, and evaluate your model with Keras\n",
        "\n",
        "This section shows how to build, train, evaluate, and get local predictions from a model by using the Keras [Sequential API](https://www.tensorflow.org/guide/keras/sequential_model). The model will takes your 10 features as input and predict the trip duration in minutes."
      ]
    },
    {
      "cell_type": "code",
      "metadata": {
        "id": "3kQz8Q0DsBM7"
      },
      "source": [
        "# Build your model\n",
        "model = tf.keras.Sequential(name=\"bike_predict\")\n",
        "model.add(tf.keras.layers.Dense(64, input_dim=len(train_data.iloc[0]), activation='relu'))\n",
        "model.add(tf.keras.layers.Dense(32, activation='relu'))\n",
        "model.add(tf.keras.layers.Dense(1))"
      ],
      "execution_count": null,
      "outputs": []
    },
    {
      "cell_type": "code",
      "metadata": {
        "id": "UvAcjSUcs_l7"
      },
      "source": [
        "# Compile the model and see a summary\n",
        "optimizer = tf.keras.optimizers.Adam(0.001)\n",
        "model.compile(loss='mean_squared_logarithmic_error', optimizer=optimizer)\n",
        "model.summary()"
      ],
      "execution_count": null,
      "outputs": []
    },
    {
      "cell_type": "markdown",
      "metadata": {
        "id": "GcOkuHPVwjiM"
      },
      "source": [
        "### Create an input data pipeline with tf.data"
      ]
    },
    {
      "cell_type": "code",
      "metadata": {
        "id": "ZUu9wFklwmm6"
      },
      "source": [
        "batch_size = 256\n",
        "epochs = 3\n",
        "\n",
        "input_train = tf.data.Dataset.from_tensor_slices(train_data)\n",
        "output_train = tf.data.Dataset.from_tensor_slices(train_labels)\n",
        "input_train = input_train.batch(batch_size).repeat()\n",
        "output_train = output_train.batch(batch_size).repeat()\n",
        "train_dataset = tf.data.Dataset.zip((input_train, output_train))"
      ],
      "execution_count": null,
      "outputs": []
    },
    {
      "cell_type": "markdown",
      "metadata": {
        "id": "l98aRzfPwo5e"
      },
      "source": [
        "### Train the model"
      ]
    },
    {
      "cell_type": "code",
      "metadata": {
        "id": "h1x_8CR0wtRs"
      },
      "source": [
        "# This will take about a minute to run\n",
        "# To keep training time short, you're not using the full dataset\n",
        "model.fit(train_dataset, steps_per_epoch=train_size // batch_size, epochs=epochs)"
      ],
      "execution_count": null,
      "outputs": []
    },
    {
      "cell_type": "markdown",
      "metadata": {
        "id": "QPr0A8bjw0wm"
      },
      "source": [
        "### Evaluate the trained model locally"
      ]
    },
    {
      "cell_type": "code",
      "metadata": {
        "id": "3Elbvna4vU30"
      },
      "source": [
        "# Run evaluation\n",
        "results = model.evaluate(test_data, test_labels)\n",
        "print(results)"
      ],
      "execution_count": null,
      "outputs": []
    },
    {
      "cell_type": "code",
      "metadata": {
        "id": "bIh6uds2x2tr"
      },
      "source": [
        "# Send test instances to model for prediction\n",
        "predict = model.predict(test_data[:5])"
      ],
      "execution_count": null,
      "outputs": []
    },
    {
      "cell_type": "code",
      "metadata": {
        "id": "aFjBh4DVx7QL"
      },
      "source": [
        "# Preview predictions on the first 5 examples from your test dataset\n",
        "for i, val in enumerate(predict):\n",
        "    print('Predicted duration: {}'.format(round(val[0])))\n",
        "    print('Actual duration: {} \\n'.format(test_labels.iloc[i]))"
      ],
      "execution_count": null,
      "outputs": []
    },
    {
      "cell_type": "markdown",
      "metadata": {
        "deletable": true,
        "editable": true,
        "id": "gAO6-zv6osJ8"
      },
      "source": [
        "## Export the model as a TF 2.x SavedModel\n",
        "\n",
        "When using TensorFlow 2.x, you export the model as a `SavedModel` and load it into Cloud Storage. "
      ]
    },
    {
      "cell_type": "code",
      "metadata": {
        "id": "uV6l3_qF9iW7"
      },
      "source": [
        "export_path = 'gs://' + BUCKET_NAME + '/explanations/mymodel'\n",
        "model.save(export_path)\n",
        "print(export_path)"
      ],
      "execution_count": null,
      "outputs": []
    },
    {
      "cell_type": "markdown",
      "metadata": {
        "id": "-f8elyM8KMNX"
      },
      "source": [
        "Use TensorFlow's `saved_model_cli` to inspect the model's SignatureDef. You'll use this information when you deploy your model to AI Explanations in the next section."
      ]
    },
    {
      "cell_type": "code",
      "metadata": {
        "id": "yFg5r-7s1BKr"
      },
      "source": [
        "! saved_model_cli show --dir $export_path --all"
      ],
      "execution_count": null,
      "outputs": []
    },
    {
      "cell_type": "markdown",
      "metadata": {
        "id": "y270ZNinycoy"
      },
      "source": [
        "## Deploy the model to AI Explanations\n",
        "\n",
        "In order to deploy the model to Explanations, you need to generate an `explanations_metadata.json` file and upload this to the Cloud Storage bucket with your SavedModel. Then you'll deploy the model using `gcloud`."
      ]
    },
    {
      "cell_type": "markdown",
      "metadata": {
        "id": "cUdUVjjGbvQy"
      },
      "source": [
        "### Prepare explanation metadata\n",
        "\n",
        "In order to deploy this model to AI Explanations, you need to create an explanation_metadata.json file with information about your model inputs, outputs, and baseline. You can use the [Explainable AI SDK](https://pypi.org/project/explainable-ai-sdk/) to generate most of the fields. \n",
        "\n",
        "The value for `input_baselines` tells the explanations service what the baseline input should be for your model. Here you're using the median for all of your input features. That means the baseline prediction for this model will be the trip duration your model predicts for the median of each feature in your dataset. \n",
        "\n",
        "Since this model accepts a single numpy array with all numerical feature, you can optionally pass an `index_feature_mapping` list to AI Explanations to make the API response easier to parse. When you provide a list of feature names via this parameter, the service will return a key / value mapping of each feature with its corresponding attribution value."
      ]
    },
    {
      "cell_type": "code",
      "metadata": {
        "id": "UolAW3lcVTGl"
      },
      "source": [
        "# Print the names of your tensors\n",
        "print('Model input tensor: ', model.input.name)\n",
        "print('Model output tensor: ', model.output.name)"
      ],
      "execution_count": null,
      "outputs": []
    },
    {
      "cell_type": "code",
      "metadata": {
        "id": "qpZiW9Cq6IY4"
      },
      "source": [
        "from explainable_ai_sdk.metadata.tf.v2 import SavedModelMetadataBuilder\n",
        "builder = SavedModelMetadataBuilder(export_path)\n",
        "builder.set_numeric_metadata(\n",
        "    model.input.name.split(':')[0],\n",
        "    input_baselines=[train_data.median().values.tolist()],\n",
        "    index_feature_mapping=train_data.columns.tolist()\n",
        ")\n",
        "builder.save_metadata(export_path)"
      ],
      "execution_count": null,
      "outputs": []
    },
    {
      "cell_type": "markdown",
      "metadata": {
        "id": "rT3iG5pDdrHi"
      },
      "source": [
        "Since this is a regression model (predicting a numerical value), the baseline prediction will be the same for every example you send to the model. If this were instead a classification model, each class would have a different baseline prediction."
      ]
    },
    {
      "cell_type": "markdown",
      "metadata": {
        "id": "J6MKKy6Xb2MT"
      },
      "source": [
        "### Create the model"
      ]
    },
    {
      "cell_type": "code",
      "metadata": {
        "id": "S2OaOycmb4o0"
      },
      "source": [
        "import datetime\n",
        "MODEL = 'bike' + datetime.datetime.now().strftime(\"%d%m%Y%H%M%S\")"
      ],
      "execution_count": null,
      "outputs": []
    },
    {
      "cell_type": "code",
      "metadata": {
        "id": "0bwCxEr5b8BP"
      },
      "source": [
        "# Create the model if it doesn't exist yet (you only need to run this once)\n",
        "! gcloud ai-platform models create $MODEL --enable-logging --region=$REGION"
      ],
      "execution_count": null,
      "outputs": []
    },
    {
      "cell_type": "markdown",
      "metadata": {
        "id": "qp4qfnZib-zQ"
      },
      "source": [
        "### Create the model version \n",
        "\n",
        "Creating the version will take ~5-10 minutes. Note that your first deploy could take longer."
      ]
    },
    {
      "cell_type": "code",
      "metadata": {
        "id": "LQlcQFG_AB4o"
      },
      "source": [
        "# Each time you create a version the name should be unique\n",
        "VERSION = 'v1'"
      ],
      "execution_count": null,
      "outputs": []
    },
    {
      "cell_type": "code",
      "metadata": {
        "id": "3l5t2o1t7dal"
      },
      "source": [
        "# Create the version with gcloud\n",
        "explain_method = 'integrated-gradients'\n",
        "! gcloud beta ai-platform versions create $VERSION --region=$REGION \\\n",
        "--model $MODEL \\\n",
        "--origin $export_path \\\n",
        "--runtime-version 2.1 \\\n",
        "--framework TENSORFLOW \\\n",
        "--python-version 3.7 \\\n",
        "--machine-type n1-standard-4 \\\n",
        "--explanation-method $explain_method \\\n",
        "--num-integral-steps 25"
      ],
      "execution_count": null,
      "outputs": []
    },
    {
      "cell_type": "code",
      "metadata": {
        "id": "eWkkRFhEMbFa"
      },
      "source": [
        "# Make sure the model deployed correctly. State should be `READY` in the following log\n",
        "! gcloud ai-platform versions describe $VERSION --model $MODEL"
      ],
      "execution_count": null,
      "outputs": []
    },
    {
      "cell_type": "markdown",
      "metadata": {
        "deletable": true,
        "editable": true,
        "id": "JzevJps9IOcU"
      },
      "source": [
        "## Get predictions and explanations\n",
        "\n",
        "Now that your model is deployed, you can use the AI Platform Prediction API to get feature attributions. You'll pass it a single test example here and see which features were most important in the model's prediction. Here you'll use the [Explainable AI SDK](https://pypi.org/project/explainable-ai-sdk/) to get your prediction and explanation. You can also use `gcloud`."
      ]
    },
    {
      "cell_type": "markdown",
      "metadata": {
        "id": "CJ-2ErWJDvcg"
      },
      "source": [
        "### Format your explanation request\n",
        "\n",
        "To make your AI Explanations request, you need to create a JSON object with your test data for prediction."
      ]
    },
    {
      "cell_type": "code",
      "metadata": {
        "id": "D_PR2BcHD40-"
      },
      "source": [
        "# Format data for prediction to your model\n",
        "prediction_json = {model.input.name.split(':')[0]: test_data.iloc[0].values.tolist()}"
      ],
      "execution_count": null,
      "outputs": []
    },
    {
      "cell_type": "markdown",
      "metadata": {
        "id": "kw7_f9QVD8Y_"
      },
      "source": [
        "### Send the explain request\n",
        "\n",
        "You can use the Explainable AI SDK to send explanation requests to your deployed model."
      ]
    },
    {
      "cell_type": "code",
      "metadata": {
        "id": "9K1yt7z69iXY"
      },
      "source": [
        "remote_ig_model = explainable_ai_sdk.load_model_from_ai_platform(PROJECT_ID, MODEL, VERSION)\n",
        "ig_response = remote_ig_model.explain([prediction_json])"
      ],
      "execution_count": null,
      "outputs": []
    },
    {
      "cell_type": "markdown",
      "metadata": {
        "id": "0nKR8RelNnkK"
      },
      "source": [
        "### Understanding the explanations response\n",
        "\n",
        "First, let's look at the trip duration your model predicted and compare it to the actual value"
      ]
    },
    {
      "cell_type": "code",
      "metadata": {
        "id": "825KoNgHR-tv"
      },
      "source": [
        "attr = ig_response[0].get_attribution()\n",
        "\n",
        "predicted = round(attr.example_score, 2)\n",
        "print('Predicted duration: ' + str(predicted) + ' minutes')\n",
        "print('Actual duration: ' + str(test_labels.iloc[0]) + ' minutes')"
      ],
      "execution_count": null,
      "outputs": []
    },
    {
      "cell_type": "markdown",
      "metadata": {
        "id": "QmObtmXIONDp"
      },
      "source": [
        "Next let's look at the feature attributions for this particular example. Positive attribution values mean a particular feature pushed your model prediction up by that amount, and vice versa for negative attribution values."
      ]
    },
    {
      "cell_type": "code",
      "metadata": {
        "id": "6HKvAImeM_qi"
      },
      "source": [
        "ig_response[0].visualize_attributions()"
      ],
      "execution_count": null,
      "outputs": []
    },
    {
      "cell_type": "markdown",
      "metadata": {
        "id": "BZiM7kywQy6j"
      },
      "source": [
        "## Check your explanations and baselines\n",
        "\n",
        "To better make sense of the feature attributions you're getting, you should compare them with your model's baseline. In most cases, the sum of your attribution values + the baseline should be very close to your model's predicted value for each input. Also note that for regression models, the `baseline_score` returned from AI Explanations will be the same for each example sent to your model. For classification models, each class will have its own baseline.\n",
        "\n",
        "In this section you'll send 10 test examples to your model for prediction in order to compare the feature attributions with the baseline. Then you'll run each test example's attributions through two sanity checks in the `sanity_check_explanations` method."
      ]
    },
    {
      "cell_type": "code",
      "metadata": {
        "id": "CSf6psVDSDrN"
      },
      "source": [
        "# Prepare 10 test examples to your model for prediction\n",
        "pred_batch = []\n",
        "for i in range(10):\n",
        "    pred_batch.append({model.input.name.split(':')[0]: test_data.iloc[i].values.tolist()})"
      ],
      "execution_count": null,
      "outputs": []
    },
    {
      "cell_type": "code",
      "metadata": {
        "id": "M-lqktTI9iXj"
      },
      "source": [
        "test_response = remote_ig_model.explain(pred_batch)"
      ],
      "execution_count": null,
      "outputs": []
    },
    {
      "cell_type": "markdown",
      "metadata": {
        "id": "vEevMCrMNjxm"
      },
      "source": [
        "In the function below you perform two sanity checks for models using Integrated Gradient (IG) explanations and one sanity check for models using Sampled Shapley."
      ]
    },
    {
      "cell_type": "code",
      "metadata": {
        "id": "B_WQXkE6RLe4"
      },
      "source": [
        "def sanity_check_explanations(example, mean_tgt_value=None, variance_tgt_value=None):\n",
        "    passed_test = 0\n",
        "    total_test = 1\n",
        "    # `attributions` is a dict where keys are the feature names\n",
        "    # and values are the feature attributions for each feature\n",
        "    attr = example.get_attribution()\n",
        "    baseline_score = attr.baseline_score\n",
        "    # sum_with_baseline = np.sum(attribution_vals) + baseline_score\n",
        "    predicted_val = attr.example_score\n",
        "\n",
        "    # Sanity check 1\n",
        "    # The prediction at the input is equal to that at the baseline.\n",
        "    #  Please use a different baseline. Some suggestions are: random input, training\n",
        "    #  set mean.\n",
        "    if abs(predicted_val - baseline_score) <= 0.05:\n",
        "        print('Warning: example score and baseline score are too close.')\n",
        "        print('You might not get attributions.')\n",
        "    else:\n",
        "        passed_test += 1\n",
        "\n",
        "    # Sanity check 2 (only for models using Integrated Gradient explanations)\n",
        "    # Ideally, the sum of the integrated gradients must be equal to the difference\n",
        "    # in the prediction probability at the input and baseline. Any discrepency in\n",
        "    # these two values is due to the errors in approximating the integral.\n",
        "    if explain_method == 'integrated-gradients':\n",
        "        total_test += 1\n",
        "        want_integral = predicted_val - baseline_score\n",
        "        got_integral = sum(attr.post_processed_attributions.values())\n",
        "        if abs(want_integral - got_integral) / abs(want_integral) > 0.05:\n",
        "            print('Warning: Integral approximation error exceeds 5%.')\n",
        "            print('Please try increasing the number of integrated gradient steps.')\n",
        "        else:\n",
        "            passed_test += 1\n",
        "\n",
        "    print(passed_test, ' out of ', total_test, ' sanity checks passed.')"
      ],
      "execution_count": null,
      "outputs": []
    },
    {
      "cell_type": "code",
      "metadata": {
        "id": "dkpK830AtRkJ"
      },
      "source": [
        "for response in test_response:\n",
        "    sanity_check_explanations(response)"
      ],
      "execution_count": null,
      "outputs": []
    },
    {
      "cell_type": "markdown",
      "metadata": {
        "id": "C5ur65baOmnn"
      },
      "source": [
        "## Understanding AI Explanations with the What-If Tool\n",
        "\n",
        "In this section you'll use the [What-If Tool](https://pair-code.github.io/what-if-tool/) to better understand how your model is making predictions. See the cell below the What-if Tool for visualization ideas."
      ]
    },
    {
      "cell_type": "markdown",
      "metadata": {
        "id": "OFO6s8ZsvKT_"
      },
      "source": [
        "The What-If-Tool expects data with keys for each feature name, but your model expects a flat list. The functions below convert data to the format required by the What-If Tool."
      ]
    },
    {
      "cell_type": "code",
      "metadata": {
        "id": "-yajpXi4Oyc3"
      },
      "source": [
        "# This is the number of data points you'll send to the What-if Tool\n",
        "WHAT_IF_TOOL_SIZE = 500\n",
        "\n",
        "from witwidget.notebook.visualization import WitWidget, WitConfigBuilder\n",
        "\n",
        "\n",
        "def create_list(ex_dict):\n",
        "    new_list = []\n",
        "    for i in feature_names:\n",
        "        new_list.append(ex_dict[i])\n",
        "    return new_list\n",
        "\n",
        "\n",
        "def example_dict_to_input(example_dict):\n",
        "    return {'dense_input': create_list(example_dict)}\n",
        "\n",
        "\n",
        "from collections import OrderedDict\n",
        "wit_data = test_data.iloc[:WHAT_IF_TOOL_SIZE].copy()\n",
        "wit_data['duration'] = test_labels[:WHAT_IF_TOOL_SIZE]\n",
        "wit_data_dict = wit_data.to_dict(orient='records', into=OrderedDict)"
      ],
      "execution_count": null,
      "outputs": []
    },
    {
      "cell_type": "code",
      "metadata": {
        "id": "3I2bEUe7Pr2Y"
      },
      "source": [
        "config_builder = WitConfigBuilder(\n",
        "    wit_data_dict\n",
        ").set_ai_platform_model(\n",
        "    PROJECT_ID,\n",
        "    MODEL,\n",
        "    VERSION,\n",
        "    adjust_example=example_dict_to_input\n",
        ").set_target_feature('duration').set_model_type('regression')\n",
        "\n",
        "WitWidget(config_builder)"
      ],
      "execution_count": null,
      "outputs": []
    },
    {
      "cell_type": "markdown",
      "metadata": {
        "id": "hWmNoC6FxOAt"
      },
      "source": [
        "### What-If Tool visualization ideas\n",
        "\n",
        "On the x-axis, you'll see the predicted trip duration for the test inputs you passed to the What-If Tool. Each circle represents one of your test examples. If you click on a circle, you'll be able to see the feature values for that example along with the attribution values for each feature. \n",
        "\n",
        "* You can edit individual feature values and re-run prediction directly within the What-If Tool. Try changing `distance`, click **Run inference** and see how that affects the model's prediction\n",
        "* You can sort features for an individual example by their attribution value, try changing the sort from the attributions dropdown\n",
        "* The What-If Tool also lets you create custom visualizations. You can do this by changing the values in the dropdown menus above the scatter plot visualization. For example, you can sort data points by inference error, or by their similarity to a single datapoint."
      ]
    },
    {
      "cell_type": "markdown",
      "metadata": {
        "deletable": true,
        "editable": true,
        "id": "x27DXeUGzb-M"
      },
      "source": [
        "## Cleaning up\n",
        "\n",
        "To clean up all GCP resources used in this project, you can [delete the GCP\n",
        "project](https://cloud.google.com/resource-manager/docs/creating-managing-projects#shutting_down_projects) you used for the tutorial.\n",
        "\n",
        "Alternatively, you can clean up individual resources by running the following\n",
        "commands:"
      ]
    },
    {
      "cell_type": "code",
      "metadata": {
        "deletable": true,
        "editable": true,
        "id": "no210oWF68Uk"
      },
      "source": [
        "# Delete model version resource\n",
        "! gcloud ai-platform versions delete $VERSION --quiet --model $MODEL\n",
        "\n",
        "# Delete model resource\n",
        "! gcloud ai-platform models delete $MODEL --quiet\n",
        "\n",
        "# Delete Cloud Storage objects that were created\n",
        "! gsutil -m rm -r gs://$BUCKET_NAME"
      ],
      "execution_count": null,
      "outputs": []
    },
    {
      "cell_type": "markdown",
      "metadata": {
        "deletable": true,
        "editable": true,
        "id": "3F2g4OjbJ3gZ"
      },
      "source": [
        "If your Cloud Storage bucket doesn't contain any other objects and you would like to delete it, run `gsutil rm -r gs://$BUCKET_NAME`."
      ]
    },
    {
      "cell_type": "markdown",
      "metadata": {
        "deletable": true,
        "editable": true,
        "id": "K0UXLWaBJnrY"
      },
      "source": [
        "## What's next?\n",
        "\n",
        "To learn more about AI Explanations or the What-if Tool, check out the resources here.\n",
        "\n",
        "* [AI Explanations documentation](cloud.google.com/ml-engine/docs/ai-explanations)\n",
        "* [Documentation for using the What-if Tool with Cloud AI Platform models ](https://cloud.google.com/ml-engine/docs/using-what-if-tool) \n",
        "* [What-If Tool documentation and demos](https://pair-code.github.io/what-if-tool/)\n",
        "* [Integrated gradients paper](https://arxiv.org/abs/1703.01365)"
      ]
    }
  ]
}