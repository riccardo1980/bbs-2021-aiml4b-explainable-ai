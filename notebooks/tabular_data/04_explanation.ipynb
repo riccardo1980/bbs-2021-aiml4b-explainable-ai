{
  "cells": [
    {
      "cell_type": "code",
      "execution_count": 1,
      "metadata": {
        "deletable": true,
        "editable": true,
        "id": "4qxwBA4RM9Lu"
      },
      "outputs": [],
      "source": [
        "PROJECT_ID = \"formazione-riccardo-zanella\" #@param {type: \"string\"}\n",
        "REGION = 'us-central1' #@param {type: \"string\"}\n",
        "BUCKET_NAME = \"bbs-2021-opml4b-explainability\" #@param {type:\"string\"}"
      ]
    },
    {
      "cell_type": "code",
      "execution_count": 2,
      "metadata": {},
      "outputs": [],
      "source": [
        "TEST_FILE = 'gs://'+BUCKET_NAME+'/data/tabular_data/test.csv'\n",
        "EXPORT_PATH = 'gs://' + BUCKET_NAME + '/mdl/tabular_data/tabular_data_20211029_152109/model'\n",
        "MODEL = 'bike'\n",
        "VERSION = 'v1'"
      ]
    },
    {
      "cell_type": "code",
      "execution_count": 3,
      "metadata": {},
      "outputs": [
        {
          "name": "stderr",
          "output_type": "stream",
          "text": [
            "2021-10-29 16:04:52.132821: W tensorflow/stream_executor/platform/default/dso_loader.cc:64] Could not load dynamic library 'libcudart.so.11.0'; dlerror: libcudart.so.11.0: cannot open shared object file: No such file or directory\n",
            "2021-10-29 16:04:52.132856: I tensorflow/stream_executor/cuda/cudart_stub.cc:29] Ignore above cudart dlerror if you do not have a GPU set up on your machine.\n"
          ]
        }
      ],
      "source": [
        "import pandas as pd\n",
        "import tensorflow as tf\n",
        "import googleapiclient\n",
        "from google.api_core.client_options import ClientOptions"
      ]
    },
    {
      "cell_type": "code",
      "execution_count": 4,
      "metadata": {},
      "outputs": [],
      "source": [
        "import sys\n",
        "sys.path.append('../../myproject')\n",
        "from trainer_tabular_data.train import split_features_labels"
      ]
    },
    {
      "cell_type": "markdown",
      "metadata": {},
      "source": [
        "# Load Test dataset"
      ]
    },
    {
      "cell_type": "code",
      "execution_count": 5,
      "metadata": {},
      "outputs": [],
      "source": [
        "with tf.io.gfile.GFile(TEST_FILE) as f:\n",
        "    test_data = pd.read_csv(f)\n",
        "\n",
        "test_features, test_labels = split_features_labels(test_data)"
      ]
    },
    {
      "cell_type": "markdown",
      "metadata": {},
      "source": [
        "# Get predictions"
      ]
    },
    {
      "cell_type": "code",
      "execution_count": 6,
      "metadata": {},
      "outputs": [],
      "source": [
        "\n",
        "def predict_json(project, region, model, instances, version=None):\n",
        "    \"\"\"Send json data to a deployed model for prediction.\n",
        "\n",
        "    Args:\n",
        "        project (str): project where the AI Platform Model is deployed.\n",
        "        model (str): model name.\n",
        "        instances ([Mapping[str: Any]]): Keys should be the names of Tensors\n",
        "            your deployed model expects as inputs. Values should be datatypes\n",
        "            convertible to Tensors, or (potentially nested) lists of datatypes\n",
        "            convertible to tensors.\n",
        "        version: str, version of the model to target.\n",
        "    Returns:\n",
        "        Mapping[str: any]: dictionary of prediction results defined by the\n",
        "            model.\n",
        "    \"\"\"\n",
        "    prefix = \"{}-ml\".format(region) if region else \"ml\"\n",
        "    api_endpoint = \"https://{}.googleapis.com\".format(prefix)\n",
        "    client_options = ClientOptions(api_endpoint=api_endpoint)\n",
        "    service = googleapiclient.discovery.build(\n",
        "        'ml', 'v1', client_options=client_options)\n",
        "    name = 'projects/{}/models/{}'.format(project, model)\n",
        "\n",
        "    if version is not None:\n",
        "        name += '/versions/{}'.format(version)\n",
        "\n",
        "    response = service.projects().predict(\n",
        "        name=name,\n",
        "        body={'instances': instances}\n",
        "    ).execute()\n",
        "\n",
        "    if 'error' in response:\n",
        "        raise RuntimeError(response['error'])\n",
        "\n",
        "    return response['predictions']"
      ]
    },
    {
      "cell_type": "code",
      "execution_count": 7,
      "metadata": {},
      "outputs": [],
      "source": [
        "# predictions = predict_json(PROJECT_ID, MODEL, [ {'dense_input': v.tolist()} for v in test_features.values[:5]], version=VERSION)\n",
        "predictions = predict_json(\n",
        "    PROJECT_ID,\n",
        "    REGION,\n",
        "    MODEL, \n",
        "    test_features[:5].values.tolist(),\n",
        "    version=VERSION)"
      ]
    },
    {
      "cell_type": "code",
      "execution_count": 13,
      "metadata": {},
      "outputs": [
        {
          "name": "stdout",
          "output_type": "stream",
          "text": [
            "Predicted duration: 18.15\n",
            "Actual duration: 22.0 \n",
            "\n",
            "Predicted duration: 27.22\n",
            "Actual duration: 31.0 \n",
            "\n",
            "Predicted duration: 26.37\n",
            "Actual duration: 23.0 \n",
            "\n",
            "Predicted duration: 16.63\n",
            "Actual duration: 14.0 \n",
            "\n",
            "Predicted duration: 13.02\n",
            "Actual duration: 9.0 \n",
            "\n"
          ]
        }
      ],
      "source": [
        "# Preview predictions on the first 5 examples from your test dataset\n",
        "for i, val in enumerate(predictions):\n",
        "    print('Predicted duration: {}'.format(round(val[0], 2)))\n",
        "    print('Actual duration: {} \\n'.format(test_labels.iloc[i]))"
      ]
    },
    {
      "cell_type": "markdown",
      "metadata": {
        "deletable": true,
        "editable": true,
        "id": "JzevJps9IOcU"
      },
      "source": [
        "# Get explanations\n",
        "\n",
        "Now that your model is deployed, you can use the AI Platform Prediction API to get feature attributions. You'll pass it a single test example here and see which features were most important in the model's prediction. Here you'll use the [Explainable AI SDK](https://pypi.org/project/explainable-ai-sdk/) to get your prediction and explanation. You can also use `gcloud`."
      ]
    },
    {
      "cell_type": "markdown",
      "metadata": {
        "id": "CJ-2ErWJDvcg"
      },
      "source": [
        "### Format your explanation request\n",
        "\n",
        "To make your AI Explanations request, you need to create a JSON object with your test data for prediction."
      ]
    },
    {
      "cell_type": "code",
      "execution_count": 9,
      "metadata": {
        "id": "D_PR2BcHD40-"
      },
      "outputs": [],
      "source": [
        "# Format data for prediction to your model\n",
        "MODEL_INPUT = 'dense_input'\n",
        "prediction_json = {MODEL_INPUT: test_features.iloc[0].values.tolist()}"
      ]
    },
    {
      "cell_type": "markdown",
      "metadata": {
        "id": "kw7_f9QVD8Y_"
      },
      "source": [
        "### Send the explain request\n",
        "\n",
        "You can use the Explainable AI SDK to send explanation requests to your deployed model."
      ]
    },
    {
      "cell_type": "code",
      "execution_count": 10,
      "metadata": {
        "id": "9K1yt7z69iXY"
      },
      "outputs": [],
      "source": [
        "import explainable_ai_sdk\n",
        "remote_ig_model = explainable_ai_sdk.load_model_from_ai_platform(PROJECT_ID, MODEL, VERSION, region=REGION)\n",
        "ig_response = remote_ig_model.explain([prediction_json])"
      ]
    },
    {
      "cell_type": "markdown",
      "metadata": {
        "id": "0nKR8RelNnkK"
      },
      "source": [
        "### Understanding the explanations response\n",
        "\n",
        "First, let's look at the trip duration your model predicted and compare it to the actual value"
      ]
    },
    {
      "cell_type": "code",
      "execution_count": 11,
      "metadata": {
        "id": "825KoNgHR-tv"
      },
      "outputs": [
        {
          "name": "stdout",
          "output_type": "stream",
          "text": [
            "Predicted duration: 18.15 minutes\n",
            "Actual duration: 22.0 minutes\n"
          ]
        }
      ],
      "source": [
        "attr = ig_response[0].get_attribution()\n",
        "\n",
        "predicted = round(attr.example_score, 2)\n",
        "print('Predicted duration: ' + str(predicted) + ' minutes')\n",
        "print('Actual duration: ' + str(test_labels.iloc[0]) + ' minutes')"
      ]
    },
    {
      "cell_type": "markdown",
      "metadata": {
        "id": "QmObtmXIONDp"
      },
      "source": [
        "Next let's look at the feature attributions for this particular example. Positive attribution values mean a particular feature pushed your model prediction up by that amount, and vice versa for negative attribution values."
      ]
    },
    {
      "cell_type": "code",
      "execution_count": 12,
      "metadata": {
        "id": "6HKvAImeM_qi"
      },
      "outputs": [
        {
          "name": "stdout",
          "output_type": "stream",
          "text": [
            "Label Index 0\n",
            "Example Score: 18.1540\n",
            "Baseline Score: -62.9452\n",
            "Approximation Error: 0.2391\n",
            "Warning: Approximation error exceeds 5%.\n"
          ]
        },
        {
          "data": {
            "image/png": "[encoded data removed]",
            "text/plain": [
              "<Figure size 432x288 with 1 Axes>"
            ]
          },
          "metadata": {
            "needs_background": "light"
          },
          "output_type": "display_data"
        }
      ],
      "source": [
        "ig_response[0].visualize_attributions()"
      ]
    },
    {
      "cell_type": "markdown",
      "metadata": {
        "id": "BZiM7kywQy6j"
      },
      "source": [
        "## Check your explanations and baselines\n",
        "\n",
        "To better make sense of the feature attributions you're getting, you should compare them with your model's baseline. In most cases, the sum of your attribution values + the baseline should be very close to your model's predicted value for each input. Also note that for regression models, the `baseline_score` returned from AI Explanations will be the same for each example sent to your model. For classification models, each class will have its own baseline.\n",
        "\n",
        "In this section you'll send 10 test examples to your model for prediction in order to compare the feature attributions with the baseline. Then you'll run each test example's attributions through two sanity checks in the `sanity_check_explanations` method."
      ]
    },
    {
      "cell_type": "code",
      "execution_count": null,
      "metadata": {
        "id": "CSf6psVDSDrN"
      },
      "outputs": [],
      "source": [
        "# Prepare 10 test examples to your model for prediction\n",
        "pred_batch = []\n",
        "for i in range(10):\n",
        "    pred_batch.append({model.input.name.split(':')[0]: test_data.iloc[i].values.tolist()})"
      ]
    },
    {
      "cell_type": "code",
      "execution_count": null,
      "metadata": {
        "id": "M-lqktTI9iXj"
      },
      "outputs": [],
      "source": [
        "test_response = remote_ig_model.explain(pred_batch)"
      ]
    },
    {
      "cell_type": "markdown",
      "metadata": {
        "id": "vEevMCrMNjxm"
      },
      "source": [
        "In the function below you perform two sanity checks for models using Integrated Gradient (IG) explanations and one sanity check for models using Sampled Shapley."
      ]
    },
    {
      "cell_type": "code",
      "execution_count": null,
      "metadata": {
        "id": "B_WQXkE6RLe4"
      },
      "outputs": [],
      "source": [
        "explain_method = 'integrated-gradients'\n",
        "def sanity_check_explanations(example, mean_tgt_value=None, variance_tgt_value=None):\n",
        "    passed_test = 0\n",
        "    total_test = 1\n",
        "    # `attributions` is a dict where keys are the feature names\n",
        "    # and values are the feature attributions for each feature\n",
        "    attr = example.get_attribution()\n",
        "    baseline_score = attr.baseline_score\n",
        "    # sum_with_baseline = np.sum(attribution_vals) + baseline_score\n",
        "    predicted_val = attr.example_score\n",
        "\n",
        "    # Sanity check 1\n",
        "    # The prediction at the input is equal to that at the baseline.\n",
        "    #  Please use a different baseline. Some suggestions are: random input, training\n",
        "    #  set mean.\n",
        "    if abs(predicted_val - baseline_score) <= 0.05:\n",
        "        print('Warning: example score and baseline score are too close.')\n",
        "        print('You might not get attributions.')\n",
        "    else:\n",
        "        passed_test += 1\n",
        "\n",
        "    # Sanity check 2 (only for models using Integrated Gradient explanations)\n",
        "    # Ideally, the sum of the integrated gradients must be equal to the difference\n",
        "    # in the prediction probability at the input and baseline. Any discrepency in\n",
        "    # these two values is due to the errors in approximating the integral.\n",
        "    if explain_method == 'integrated-gradients':\n",
        "        total_test += 1\n",
        "        want_integral = predicted_val - baseline_score\n",
        "        got_integral = sum(attr.post_processed_attributions.values())\n",
        "        if abs(want_integral - got_integral) / abs(want_integral) > 0.05:\n",
        "            print('Warning: Integral approximation error exceeds 5%.')\n",
        "            print('Please try increasing the number of integrated gradient steps.')\n",
        "        else:\n",
        "            passed_test += 1\n",
        "\n",
        "    print(passed_test, ' out of ', total_test, ' sanity checks passed.')"
      ]
    },
    {
      "cell_type": "code",
      "execution_count": null,
      "metadata": {
        "id": "dkpK830AtRkJ"
      },
      "outputs": [],
      "source": [
        "for response in test_response:\n",
        "    sanity_check_explanations(response)"
      ]
    },
    {
      "cell_type": "markdown",
      "metadata": {
        "id": "C5ur65baOmnn"
      },
      "source": [
        "## Understanding AI Explanations with the What-If Tool\n",
        "\n",
        "In this section you'll use the [What-If Tool](https://pair-code.github.io/what-if-tool/) to better understand how your model is making predictions. See the cell below the What-if Tool for visualization ideas."
      ]
    },
    {
      "cell_type": "markdown",
      "metadata": {
        "id": "OFO6s8ZsvKT_"
      },
      "source": [
        "The What-If-Tool expects data with keys for each feature name, but your model expects a flat list. The functions below convert data to the format required by the What-If Tool."
      ]
    },
    {
      "cell_type": "code",
      "execution_count": null,
      "metadata": {
        "id": "-yajpXi4Oyc3"
      },
      "outputs": [],
      "source": [
        "# This is the number of data points you'll send to the What-if Tool\n",
        "WHAT_IF_TOOL_SIZE = 50\n",
        "\n",
        "from witwidget.notebook.visualization import WitWidget, WitConfigBuilder\n",
        "\n",
        "\n",
        "def create_list(ex_dict):\n",
        "    new_list = []\n",
        "    for i in feature_names:\n",
        "        new_list.append(ex_dict[i])\n",
        "    return new_list\n",
        "\n",
        "\n",
        "def example_dict_to_input(example_dict):\n",
        "    return {'dense_input': create_list(example_dict)}\n",
        "\n",
        "\n",
        "from collections import OrderedDict\n",
        "wit_data = test_data.iloc[:WHAT_IF_TOOL_SIZE].copy()\n",
        "wit_data['duration'] = test_labels[:WHAT_IF_TOOL_SIZE]\n",
        "wit_data_dict = wit_data.to_dict(orient='records', into=OrderedDict)"
      ]
    },
    {
      "cell_type": "code",
      "execution_count": null,
      "metadata": {
        "id": "3I2bEUe7Pr2Y"
      },
      "outputs": [],
      "source": [
        "config_builder = WitConfigBuilder(\n",
        "    wit_data_dict\n",
        ").set_ai_platform_model(\n",
        "    PROJECT_ID,\n",
        "    MODEL,\n",
        "    VERSION,\n",
        "    adjust_example=example_dict_to_input\n",
        ").set_target_feature('duration').set_model_type('regression')\n",
        "\n",
        "WitWidget(config_builder)"
      ]
    },
    {
      "cell_type": "markdown",
      "metadata": {
        "id": "hWmNoC6FxOAt"
      },
      "source": [
        "### What-If Tool visualization ideas\n",
        "\n",
        "On the x-axis, you'll see the predicted trip duration for the test inputs you passed to the What-If Tool. Each circle represents one of your test examples. If you click on a circle, you'll be able to see the feature values for that example along with the attribution values for each feature. \n",
        "\n",
        "* You can edit individual feature values and re-run prediction directly within the What-If Tool. Try changing `distance`, click **Run inference** and see how that affects the model's prediction\n",
        "* You can sort features for an individual example by their attribution value, try changing the sort from the attributions dropdown\n",
        "* The What-If Tool also lets you create custom visualizations. You can do this by changing the values in the dropdown menus above the scatter plot visualization. For example, you can sort data points by inference error, or by their similarity to a single datapoint."
      ]
    },
    {
      "cell_type": "markdown",
      "metadata": {
        "deletable": true,
        "editable": true,
        "id": "3F2g4OjbJ3gZ"
      },
      "source": [
        "If your Cloud Storage bucket doesn't contain any other objects and you would like to delete it, run `gsutil rm -r gs://$BUCKET_NAME`."
      ]
    },
    {
      "cell_type": "markdown",
      "metadata": {
        "deletable": true,
        "editable": true,
        "id": "K0UXLWaBJnrY"
      },
      "source": [
        "## What's next?\n",
        "\n",
        "To learn more about AI Explanations or the What-if Tool, check out the resources here.\n",
        "\n",
        "* [AI Explanations documentation](cloud.google.com/ml-engine/docs/ai-explanations)\n",
        "* [Documentation for using the What-if Tool with Cloud AI Platform models ](https://cloud.google.com/ml-engine/docs/using-what-if-tool) \n",
        "* [What-If Tool documentation and demos](https://pair-code.github.io/what-if-tool/)\n",
        "* [Integrated gradients paper](https://arxiv.org/abs/1703.01365)"
      ]
    }
  ],
  "metadata": {
    "colab": {
      "collapsed_sections": [],
      "name": "ai-explanations-tabular.ipynb",
      "provenance": [],
      "toc_visible": true
    },
    "interpreter": {
      "hash": "a0084c784bc1853f1457fd28c44f23a4ba2b730805a7884d767b56d58b716959"
    },
    "kernelspec": {
      "display_name": "Python 3.7.3 64-bit ('.venv': venv)",
      "name": "python3"
    },
    "language_info": {
      "codemirror_mode": {
        "name": "ipython",
        "version": 3
      },
      "file_extension": ".py",
      "mimetype": "text/x-python",
      "name": "python",
      "nbconvert_exporter": "python",
      "pygments_lexer": "ipython3",
      "version": "3.7.3"
    }
  },
  "nbformat": 4,
  "nbformat_minor": 0
}
